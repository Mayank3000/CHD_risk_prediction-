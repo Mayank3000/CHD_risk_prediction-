{
 "cells": [
  {
   "cell_type": "code",
   "execution_count": 1,
   "id": "7b15519c-b283-4bcc-8765-3e4485f4c4b1",
   "metadata": {},
   "outputs": [],
   "source": [
    "import pandas as pd\n",
    "import numpy as np\n",
    "from sklearn.model_selection import train_test_split\n",
    "from sklearn.linear_model import LogisticRegression\n",
    "from sklearn.ensemble import RandomForestClassifier\n",
    "from sklearn.naive_bayes import GaussianNB\n",
    "import xgboost as xgb\n",
    "from sklearn.svm import SVC\n",
    "from sklearn.metrics import accuracy_score, classification_report, confusion_matrix,roc_curve, roc_auc_score\n",
    "from sklearn.impute import KNNImputer\n",
    "from sklearn.preprocessing import LabelEncoder\n",
    "from sklearn.preprocessing import StandardScaler\n",
    "from imblearn.over_sampling import SMOTE\n",
    "from imblearn.combine import SMOTETomek\n",
    "import matplotlib.pyplot as plt\n",
    "import seaborn as sns "
   ]
  },
  {
   "cell_type": "code",
   "execution_count": 2,
   "id": "c91cc65c-4b98-4773-8e97-36557b116ac1",
   "metadata": {},
   "outputs": [],
   "source": [
    "df = pd.read_csv(\"data_cardiovascular_risk.csv\")  "
   ]
  },
  {
   "cell_type": "code",
   "execution_count": 3,
   "id": "dba6e3fa-d16d-44ec-98d6-4f327687f9c0",
   "metadata": {},
   "outputs": [
    {
     "data": {
      "text/html": [
       "<div>\n",
       "<style scoped>\n",
       "    .dataframe tbody tr th:only-of-type {\n",
       "        vertical-align: middle;\n",
       "    }\n",
       "\n",
       "    .dataframe tbody tr th {\n",
       "        vertical-align: top;\n",
       "    }\n",
       "\n",
       "    .dataframe thead th {\n",
       "        text-align: right;\n",
       "    }\n",
       "</style>\n",
       "<table border=\"1\" class=\"dataframe\">\n",
       "  <thead>\n",
       "    <tr style=\"text-align: right;\">\n",
       "      <th></th>\n",
       "      <th>id</th>\n",
       "      <th>age</th>\n",
       "      <th>education</th>\n",
       "      <th>sex</th>\n",
       "      <th>is_smoking</th>\n",
       "      <th>cigsPerDay</th>\n",
       "      <th>BPMeds</th>\n",
       "      <th>prevalentStroke</th>\n",
       "      <th>prevalentHyp</th>\n",
       "      <th>diabetes</th>\n",
       "      <th>totChol</th>\n",
       "      <th>sysBP</th>\n",
       "      <th>diaBP</th>\n",
       "      <th>BMI</th>\n",
       "      <th>heartRate</th>\n",
       "      <th>glucose</th>\n",
       "      <th>TenYearCHD</th>\n",
       "    </tr>\n",
       "  </thead>\n",
       "  <tbody>\n",
       "    <tr>\n",
       "      <th>0</th>\n",
       "      <td>0</td>\n",
       "      <td>64</td>\n",
       "      <td>2.0</td>\n",
       "      <td>F</td>\n",
       "      <td>YES</td>\n",
       "      <td>3.0</td>\n",
       "      <td>0.0</td>\n",
       "      <td>0</td>\n",
       "      <td>0</td>\n",
       "      <td>0</td>\n",
       "      <td>221.0</td>\n",
       "      <td>148.0</td>\n",
       "      <td>85.0</td>\n",
       "      <td>NaN</td>\n",
       "      <td>90.0</td>\n",
       "      <td>80.0</td>\n",
       "      <td>1</td>\n",
       "    </tr>\n",
       "    <tr>\n",
       "      <th>1</th>\n",
       "      <td>1</td>\n",
       "      <td>36</td>\n",
       "      <td>4.0</td>\n",
       "      <td>M</td>\n",
       "      <td>NO</td>\n",
       "      <td>0.0</td>\n",
       "      <td>0.0</td>\n",
       "      <td>0</td>\n",
       "      <td>1</td>\n",
       "      <td>0</td>\n",
       "      <td>212.0</td>\n",
       "      <td>168.0</td>\n",
       "      <td>98.0</td>\n",
       "      <td>29.77</td>\n",
       "      <td>72.0</td>\n",
       "      <td>75.0</td>\n",
       "      <td>0</td>\n",
       "    </tr>\n",
       "    <tr>\n",
       "      <th>2</th>\n",
       "      <td>2</td>\n",
       "      <td>46</td>\n",
       "      <td>1.0</td>\n",
       "      <td>F</td>\n",
       "      <td>YES</td>\n",
       "      <td>10.0</td>\n",
       "      <td>0.0</td>\n",
       "      <td>0</td>\n",
       "      <td>0</td>\n",
       "      <td>0</td>\n",
       "      <td>250.0</td>\n",
       "      <td>116.0</td>\n",
       "      <td>71.0</td>\n",
       "      <td>20.35</td>\n",
       "      <td>88.0</td>\n",
       "      <td>94.0</td>\n",
       "      <td>0</td>\n",
       "    </tr>\n",
       "    <tr>\n",
       "      <th>3</th>\n",
       "      <td>3</td>\n",
       "      <td>50</td>\n",
       "      <td>1.0</td>\n",
       "      <td>M</td>\n",
       "      <td>YES</td>\n",
       "      <td>20.0</td>\n",
       "      <td>0.0</td>\n",
       "      <td>0</td>\n",
       "      <td>1</td>\n",
       "      <td>0</td>\n",
       "      <td>233.0</td>\n",
       "      <td>158.0</td>\n",
       "      <td>88.0</td>\n",
       "      <td>28.26</td>\n",
       "      <td>68.0</td>\n",
       "      <td>94.0</td>\n",
       "      <td>1</td>\n",
       "    </tr>\n",
       "    <tr>\n",
       "      <th>4</th>\n",
       "      <td>4</td>\n",
       "      <td>64</td>\n",
       "      <td>1.0</td>\n",
       "      <td>F</td>\n",
       "      <td>YES</td>\n",
       "      <td>30.0</td>\n",
       "      <td>0.0</td>\n",
       "      <td>0</td>\n",
       "      <td>0</td>\n",
       "      <td>0</td>\n",
       "      <td>241.0</td>\n",
       "      <td>136.5</td>\n",
       "      <td>85.0</td>\n",
       "      <td>26.42</td>\n",
       "      <td>70.0</td>\n",
       "      <td>77.0</td>\n",
       "      <td>0</td>\n",
       "    </tr>\n",
       "  </tbody>\n",
       "</table>\n",
       "</div>"
      ],
      "text/plain": [
       "   id  age  education sex is_smoking  cigsPerDay  BPMeds  prevalentStroke  \\\n",
       "0   0   64        2.0   F        YES         3.0     0.0                0   \n",
       "1   1   36        4.0   M         NO         0.0     0.0                0   \n",
       "2   2   46        1.0   F        YES        10.0     0.0                0   \n",
       "3   3   50        1.0   M        YES        20.0     0.0                0   \n",
       "4   4   64        1.0   F        YES        30.0     0.0                0   \n",
       "\n",
       "   prevalentHyp  diabetes  totChol  sysBP  diaBP    BMI  heartRate  glucose  \\\n",
       "0             0         0    221.0  148.0   85.0    NaN       90.0     80.0   \n",
       "1             1         0    212.0  168.0   98.0  29.77       72.0     75.0   \n",
       "2             0         0    250.0  116.0   71.0  20.35       88.0     94.0   \n",
       "3             1         0    233.0  158.0   88.0  28.26       68.0     94.0   \n",
       "4             0         0    241.0  136.5   85.0  26.42       70.0     77.0   \n",
       "\n",
       "   TenYearCHD  \n",
       "0           1  \n",
       "1           0  \n",
       "2           0  \n",
       "3           1  \n",
       "4           0  "
      ]
     },
     "execution_count": 3,
     "metadata": {},
     "output_type": "execute_result"
    }
   ],
   "source": [
    "df.head()"
   ]
  },
  {
   "cell_type": "code",
   "execution_count": 4,
   "id": "63895d15-a7ab-40fe-ba32-4b21dc3f5edc",
   "metadata": {},
   "outputs": [
    {
     "name": "stdout",
     "output_type": "stream",
     "text": [
      "Number of null values: id                   0\n",
      "age                  0\n",
      "education           87\n",
      "sex                  0\n",
      "is_smoking           0\n",
      "cigsPerDay          22\n",
      "BPMeds              44\n",
      "prevalentStroke      0\n",
      "prevalentHyp         0\n",
      "diabetes             0\n",
      "totChol             38\n",
      "sysBP                0\n",
      "diaBP                0\n",
      "BMI                 14\n",
      "heartRate            1\n",
      "glucose            304\n",
      "TenYearCHD           0\n",
      "dtype: int64\n"
     ]
    }
   ],
   "source": [
    "null_count = df.isnull().sum()\n",
    "print('Number of null values:', null_count)"
   ]
  },
  {
   "cell_type": "markdown",
   "id": "9133cf54-19bc-4e69-86bc-a9fd6d927e6c",
   "metadata": {},
   "source": [
    "## Handling Missing Values"
   ]
  },
  {
   "cell_type": "markdown",
   "id": "664a548c-c763-4709-84fa-85c62129a378",
   "metadata": {},
   "source": [
    "### Education - Bp-meds "
   ]
  },
  {
   "cell_type": "code",
   "execution_count": 5,
   "id": "ca8cc1ce-8603-436c-bdd4-fd276cdd85f6",
   "metadata": {},
   "outputs": [],
   "source": [
    "df['education'] = df['education'].fillna(df['education'].mode()[0])\n",
    "df['BPMeds'] = df['BPMeds'].fillna(df['BPMeds'].mode()[0])"
   ]
  },
  {
   "cell_type": "markdown",
   "id": "5bb6fabb-5a83-49c4-a11d-f9db8637956b",
   "metadata": {},
   "source": [
    "### Cigs_per_day"
   ]
  },
  {
   "cell_type": "code",
   "execution_count": 6,
   "id": "914dc930-93bd-455d-b165-516f71309109",
   "metadata": {},
   "outputs": [
    {
     "data": {
      "text/plain": [
       "(9.0, 0.0)"
      ]
     },
     "execution_count": 6,
     "metadata": {},
     "output_type": "execute_result"
    }
   ],
   "source": [
    "df.cigsPerDay.mean().round(0),df.cigsPerDay.median()"
   ]
  },
  {
   "cell_type": "code",
   "execution_count": 7,
   "id": "e5ce9f80-46a7-42ea-8026-2ebbb92454c4",
   "metadata": {},
   "outputs": [
    {
     "data": {
      "text/html": [
       "<div>\n",
       "<style scoped>\n",
       "    .dataframe tbody tr th:only-of-type {\n",
       "        vertical-align: middle;\n",
       "    }\n",
       "\n",
       "    .dataframe tbody tr th {\n",
       "        vertical-align: top;\n",
       "    }\n",
       "\n",
       "    .dataframe thead th {\n",
       "        text-align: right;\n",
       "    }\n",
       "</style>\n",
       "<table border=\"1\" class=\"dataframe\">\n",
       "  <thead>\n",
       "    <tr style=\"text-align: right;\">\n",
       "      <th></th>\n",
       "      <th>id</th>\n",
       "      <th>age</th>\n",
       "      <th>education</th>\n",
       "      <th>sex</th>\n",
       "      <th>is_smoking</th>\n",
       "      <th>cigsPerDay</th>\n",
       "      <th>BPMeds</th>\n",
       "      <th>prevalentStroke</th>\n",
       "      <th>prevalentHyp</th>\n",
       "      <th>diabetes</th>\n",
       "      <th>totChol</th>\n",
       "      <th>sysBP</th>\n",
       "      <th>diaBP</th>\n",
       "      <th>BMI</th>\n",
       "      <th>heartRate</th>\n",
       "      <th>glucose</th>\n",
       "      <th>TenYearCHD</th>\n",
       "    </tr>\n",
       "  </thead>\n",
       "  <tbody>\n",
       "    <tr>\n",
       "      <th>422</th>\n",
       "      <td>422</td>\n",
       "      <td>55</td>\n",
       "      <td>1.0</td>\n",
       "      <td>F</td>\n",
       "      <td>YES</td>\n",
       "      <td>NaN</td>\n",
       "      <td>0.0</td>\n",
       "      <td>0</td>\n",
       "      <td>1</td>\n",
       "      <td>0</td>\n",
       "      <td>213.0</td>\n",
       "      <td>163.0</td>\n",
       "      <td>91.0</td>\n",
       "      <td>28.66</td>\n",
       "      <td>69.0</td>\n",
       "      <td>66.0</td>\n",
       "      <td>0</td>\n",
       "    </tr>\n",
       "    <tr>\n",
       "      <th>466</th>\n",
       "      <td>466</td>\n",
       "      <td>45</td>\n",
       "      <td>3.0</td>\n",
       "      <td>M</td>\n",
       "      <td>YES</td>\n",
       "      <td>NaN</td>\n",
       "      <td>0.0</td>\n",
       "      <td>0</td>\n",
       "      <td>1</td>\n",
       "      <td>0</td>\n",
       "      <td>170.0</td>\n",
       "      <td>145.5</td>\n",
       "      <td>99.0</td>\n",
       "      <td>26.74</td>\n",
       "      <td>83.0</td>\n",
       "      <td>85.0</td>\n",
       "      <td>0</td>\n",
       "    </tr>\n",
       "    <tr>\n",
       "      <th>469</th>\n",
       "      <td>469</td>\n",
       "      <td>42</td>\n",
       "      <td>1.0</td>\n",
       "      <td>M</td>\n",
       "      <td>YES</td>\n",
       "      <td>NaN</td>\n",
       "      <td>0.0</td>\n",
       "      <td>0</td>\n",
       "      <td>0</td>\n",
       "      <td>0</td>\n",
       "      <td>196.0</td>\n",
       "      <td>123.0</td>\n",
       "      <td>73.0</td>\n",
       "      <td>22.06</td>\n",
       "      <td>66.0</td>\n",
       "      <td>NaN</td>\n",
       "      <td>0</td>\n",
       "    </tr>\n",
       "    <tr>\n",
       "      <th>491</th>\n",
       "      <td>491</td>\n",
       "      <td>61</td>\n",
       "      <td>1.0</td>\n",
       "      <td>F</td>\n",
       "      <td>YES</td>\n",
       "      <td>NaN</td>\n",
       "      <td>0.0</td>\n",
       "      <td>0</td>\n",
       "      <td>1</td>\n",
       "      <td>0</td>\n",
       "      <td>356.0</td>\n",
       "      <td>168.0</td>\n",
       "      <td>98.0</td>\n",
       "      <td>27.30</td>\n",
       "      <td>103.0</td>\n",
       "      <td>106.0</td>\n",
       "      <td>0</td>\n",
       "    </tr>\n",
       "    <tr>\n",
       "      <th>538</th>\n",
       "      <td>538</td>\n",
       "      <td>41</td>\n",
       "      <td>1.0</td>\n",
       "      <td>F</td>\n",
       "      <td>YES</td>\n",
       "      <td>NaN</td>\n",
       "      <td>0.0</td>\n",
       "      <td>0</td>\n",
       "      <td>0</td>\n",
       "      <td>0</td>\n",
       "      <td>171.0</td>\n",
       "      <td>135.0</td>\n",
       "      <td>82.5</td>\n",
       "      <td>24.35</td>\n",
       "      <td>79.0</td>\n",
       "      <td>82.0</td>\n",
       "      <td>0</td>\n",
       "    </tr>\n",
       "    <tr>\n",
       "      <th>767</th>\n",
       "      <td>767</td>\n",
       "      <td>54</td>\n",
       "      <td>1.0</td>\n",
       "      <td>M</td>\n",
       "      <td>YES</td>\n",
       "      <td>NaN</td>\n",
       "      <td>0.0</td>\n",
       "      <td>0</td>\n",
       "      <td>0</td>\n",
       "      <td>0</td>\n",
       "      <td>219.0</td>\n",
       "      <td>110.0</td>\n",
       "      <td>72.0</td>\n",
       "      <td>26.05</td>\n",
       "      <td>95.0</td>\n",
       "      <td>86.0</td>\n",
       "      <td>0</td>\n",
       "    </tr>\n",
       "    <tr>\n",
       "      <th>1461</th>\n",
       "      <td>1461</td>\n",
       "      <td>47</td>\n",
       "      <td>2.0</td>\n",
       "      <td>F</td>\n",
       "      <td>YES</td>\n",
       "      <td>NaN</td>\n",
       "      <td>0.0</td>\n",
       "      <td>0</td>\n",
       "      <td>0</td>\n",
       "      <td>0</td>\n",
       "      <td>365.0</td>\n",
       "      <td>127.0</td>\n",
       "      <td>76.0</td>\n",
       "      <td>24.44</td>\n",
       "      <td>72.0</td>\n",
       "      <td>80.0</td>\n",
       "      <td>0</td>\n",
       "    </tr>\n",
       "    <tr>\n",
       "      <th>1467</th>\n",
       "      <td>1467</td>\n",
       "      <td>49</td>\n",
       "      <td>1.0</td>\n",
       "      <td>F</td>\n",
       "      <td>YES</td>\n",
       "      <td>NaN</td>\n",
       "      <td>0.0</td>\n",
       "      <td>0</td>\n",
       "      <td>0</td>\n",
       "      <td>0</td>\n",
       "      <td>252.0</td>\n",
       "      <td>123.0</td>\n",
       "      <td>69.0</td>\n",
       "      <td>21.45</td>\n",
       "      <td>72.0</td>\n",
       "      <td>89.0</td>\n",
       "      <td>0</td>\n",
       "    </tr>\n",
       "    <tr>\n",
       "      <th>1597</th>\n",
       "      <td>1597</td>\n",
       "      <td>57</td>\n",
       "      <td>1.0</td>\n",
       "      <td>F</td>\n",
       "      <td>YES</td>\n",
       "      <td>NaN</td>\n",
       "      <td>0.0</td>\n",
       "      <td>0</td>\n",
       "      <td>0</td>\n",
       "      <td>0</td>\n",
       "      <td>229.0</td>\n",
       "      <td>115.0</td>\n",
       "      <td>69.0</td>\n",
       "      <td>24.43</td>\n",
       "      <td>80.0</td>\n",
       "      <td>93.0</td>\n",
       "      <td>0</td>\n",
       "    </tr>\n",
       "    <tr>\n",
       "      <th>1986</th>\n",
       "      <td>1986</td>\n",
       "      <td>49</td>\n",
       "      <td>2.0</td>\n",
       "      <td>F</td>\n",
       "      <td>YES</td>\n",
       "      <td>NaN</td>\n",
       "      <td>0.0</td>\n",
       "      <td>0</td>\n",
       "      <td>1</td>\n",
       "      <td>0</td>\n",
       "      <td>233.0</td>\n",
       "      <td>158.0</td>\n",
       "      <td>102.0</td>\n",
       "      <td>25.31</td>\n",
       "      <td>90.0</td>\n",
       "      <td>72.0</td>\n",
       "      <td>0</td>\n",
       "    </tr>\n",
       "    <tr>\n",
       "      <th>2031</th>\n",
       "      <td>2031</td>\n",
       "      <td>58</td>\n",
       "      <td>4.0</td>\n",
       "      <td>F</td>\n",
       "      <td>YES</td>\n",
       "      <td>NaN</td>\n",
       "      <td>0.0</td>\n",
       "      <td>0</td>\n",
       "      <td>1</td>\n",
       "      <td>0</td>\n",
       "      <td>270.0</td>\n",
       "      <td>195.0</td>\n",
       "      <td>117.5</td>\n",
       "      <td>23.35</td>\n",
       "      <td>75.0</td>\n",
       "      <td>NaN</td>\n",
       "      <td>0</td>\n",
       "    </tr>\n",
       "    <tr>\n",
       "      <th>2087</th>\n",
       "      <td>2087</td>\n",
       "      <td>49</td>\n",
       "      <td>4.0</td>\n",
       "      <td>M</td>\n",
       "      <td>YES</td>\n",
       "      <td>NaN</td>\n",
       "      <td>0.0</td>\n",
       "      <td>0</td>\n",
       "      <td>0</td>\n",
       "      <td>0</td>\n",
       "      <td>256.0</td>\n",
       "      <td>127.5</td>\n",
       "      <td>81.5</td>\n",
       "      <td>28.21</td>\n",
       "      <td>93.0</td>\n",
       "      <td>85.0</td>\n",
       "      <td>1</td>\n",
       "    </tr>\n",
       "    <tr>\n",
       "      <th>2240</th>\n",
       "      <td>2240</td>\n",
       "      <td>47</td>\n",
       "      <td>3.0</td>\n",
       "      <td>F</td>\n",
       "      <td>YES</td>\n",
       "      <td>NaN</td>\n",
       "      <td>0.0</td>\n",
       "      <td>0</td>\n",
       "      <td>0</td>\n",
       "      <td>0</td>\n",
       "      <td>321.0</td>\n",
       "      <td>132.0</td>\n",
       "      <td>88.0</td>\n",
       "      <td>28.14</td>\n",
       "      <td>90.0</td>\n",
       "      <td>74.0</td>\n",
       "      <td>0</td>\n",
       "    </tr>\n",
       "    <tr>\n",
       "      <th>2284</th>\n",
       "      <td>2284</td>\n",
       "      <td>45</td>\n",
       "      <td>2.0</td>\n",
       "      <td>M</td>\n",
       "      <td>YES</td>\n",
       "      <td>NaN</td>\n",
       "      <td>0.0</td>\n",
       "      <td>0</td>\n",
       "      <td>0</td>\n",
       "      <td>0</td>\n",
       "      <td>248.0</td>\n",
       "      <td>121.0</td>\n",
       "      <td>72.0</td>\n",
       "      <td>27.88</td>\n",
       "      <td>64.0</td>\n",
       "      <td>88.0</td>\n",
       "      <td>0</td>\n",
       "    </tr>\n",
       "    <tr>\n",
       "      <th>2527</th>\n",
       "      <td>2527</td>\n",
       "      <td>58</td>\n",
       "      <td>2.0</td>\n",
       "      <td>M</td>\n",
       "      <td>YES</td>\n",
       "      <td>NaN</td>\n",
       "      <td>0.0</td>\n",
       "      <td>0</td>\n",
       "      <td>0</td>\n",
       "      <td>0</td>\n",
       "      <td>235.0</td>\n",
       "      <td>127.5</td>\n",
       "      <td>76.0</td>\n",
       "      <td>21.02</td>\n",
       "      <td>81.0</td>\n",
       "      <td>135.0</td>\n",
       "      <td>0</td>\n",
       "    </tr>\n",
       "    <tr>\n",
       "      <th>2638</th>\n",
       "      <td>2638</td>\n",
       "      <td>57</td>\n",
       "      <td>1.0</td>\n",
       "      <td>M</td>\n",
       "      <td>YES</td>\n",
       "      <td>NaN</td>\n",
       "      <td>0.0</td>\n",
       "      <td>0</td>\n",
       "      <td>0</td>\n",
       "      <td>0</td>\n",
       "      <td>223.0</td>\n",
       "      <td>107.5</td>\n",
       "      <td>72.5</td>\n",
       "      <td>24.74</td>\n",
       "      <td>62.0</td>\n",
       "      <td>103.0</td>\n",
       "      <td>0</td>\n",
       "    </tr>\n",
       "    <tr>\n",
       "      <th>2648</th>\n",
       "      <td>2648</td>\n",
       "      <td>39</td>\n",
       "      <td>2.0</td>\n",
       "      <td>M</td>\n",
       "      <td>YES</td>\n",
       "      <td>NaN</td>\n",
       "      <td>0.0</td>\n",
       "      <td>0</td>\n",
       "      <td>0</td>\n",
       "      <td>0</td>\n",
       "      <td>285.0</td>\n",
       "      <td>121.0</td>\n",
       "      <td>82.0</td>\n",
       "      <td>27.62</td>\n",
       "      <td>85.0</td>\n",
       "      <td>65.0</td>\n",
       "      <td>0</td>\n",
       "    </tr>\n",
       "    <tr>\n",
       "      <th>2723</th>\n",
       "      <td>2723</td>\n",
       "      <td>43</td>\n",
       "      <td>4.0</td>\n",
       "      <td>M</td>\n",
       "      <td>YES</td>\n",
       "      <td>NaN</td>\n",
       "      <td>0.0</td>\n",
       "      <td>0</td>\n",
       "      <td>0</td>\n",
       "      <td>0</td>\n",
       "      <td>222.0</td>\n",
       "      <td>109.5</td>\n",
       "      <td>69.0</td>\n",
       "      <td>25.50</td>\n",
       "      <td>75.0</td>\n",
       "      <td>NaN</td>\n",
       "      <td>0</td>\n",
       "    </tr>\n",
       "    <tr>\n",
       "      <th>2879</th>\n",
       "      <td>2879</td>\n",
       "      <td>42</td>\n",
       "      <td>1.0</td>\n",
       "      <td>M</td>\n",
       "      <td>YES</td>\n",
       "      <td>NaN</td>\n",
       "      <td>0.0</td>\n",
       "      <td>0</td>\n",
       "      <td>0</td>\n",
       "      <td>0</td>\n",
       "      <td>226.0</td>\n",
       "      <td>119.0</td>\n",
       "      <td>80.0</td>\n",
       "      <td>25.29</td>\n",
       "      <td>62.0</td>\n",
       "      <td>98.0</td>\n",
       "      <td>0</td>\n",
       "    </tr>\n",
       "    <tr>\n",
       "      <th>2945</th>\n",
       "      <td>2945</td>\n",
       "      <td>53</td>\n",
       "      <td>2.0</td>\n",
       "      <td>M</td>\n",
       "      <td>YES</td>\n",
       "      <td>NaN</td>\n",
       "      <td>0.0</td>\n",
       "      <td>0</td>\n",
       "      <td>0</td>\n",
       "      <td>0</td>\n",
       "      <td>276.0</td>\n",
       "      <td>130.0</td>\n",
       "      <td>86.0</td>\n",
       "      <td>24.21</td>\n",
       "      <td>58.0</td>\n",
       "      <td>82.0</td>\n",
       "      <td>0</td>\n",
       "    </tr>\n",
       "    <tr>\n",
       "      <th>3301</th>\n",
       "      <td>3301</td>\n",
       "      <td>55</td>\n",
       "      <td>1.0</td>\n",
       "      <td>M</td>\n",
       "      <td>YES</td>\n",
       "      <td>NaN</td>\n",
       "      <td>0.0</td>\n",
       "      <td>0</td>\n",
       "      <td>0</td>\n",
       "      <td>0</td>\n",
       "      <td>214.0</td>\n",
       "      <td>132.5</td>\n",
       "      <td>85.5</td>\n",
       "      <td>29.25</td>\n",
       "      <td>70.0</td>\n",
       "      <td>103.0</td>\n",
       "      <td>0</td>\n",
       "    </tr>\n",
       "    <tr>\n",
       "      <th>3378</th>\n",
       "      <td>3378</td>\n",
       "      <td>39</td>\n",
       "      <td>3.0</td>\n",
       "      <td>F</td>\n",
       "      <td>YES</td>\n",
       "      <td>NaN</td>\n",
       "      <td>0.0</td>\n",
       "      <td>0</td>\n",
       "      <td>0</td>\n",
       "      <td>0</td>\n",
       "      <td>197.0</td>\n",
       "      <td>126.5</td>\n",
       "      <td>76.5</td>\n",
       "      <td>19.71</td>\n",
       "      <td>55.0</td>\n",
       "      <td>63.0</td>\n",
       "      <td>0</td>\n",
       "    </tr>\n",
       "  </tbody>\n",
       "</table>\n",
       "</div>"
      ],
      "text/plain": [
       "        id  age  education sex is_smoking  cigsPerDay  BPMeds  \\\n",
       "422    422   55        1.0   F        YES         NaN     0.0   \n",
       "466    466   45        3.0   M        YES         NaN     0.0   \n",
       "469    469   42        1.0   M        YES         NaN     0.0   \n",
       "491    491   61        1.0   F        YES         NaN     0.0   \n",
       "538    538   41        1.0   F        YES         NaN     0.0   \n",
       "767    767   54        1.0   M        YES         NaN     0.0   \n",
       "1461  1461   47        2.0   F        YES         NaN     0.0   \n",
       "1467  1467   49        1.0   F        YES         NaN     0.0   \n",
       "1597  1597   57        1.0   F        YES         NaN     0.0   \n",
       "1986  1986   49        2.0   F        YES         NaN     0.0   \n",
       "2031  2031   58        4.0   F        YES         NaN     0.0   \n",
       "2087  2087   49        4.0   M        YES         NaN     0.0   \n",
       "2240  2240   47        3.0   F        YES         NaN     0.0   \n",
       "2284  2284   45        2.0   M        YES         NaN     0.0   \n",
       "2527  2527   58        2.0   M        YES         NaN     0.0   \n",
       "2638  2638   57        1.0   M        YES         NaN     0.0   \n",
       "2648  2648   39        2.0   M        YES         NaN     0.0   \n",
       "2723  2723   43        4.0   M        YES         NaN     0.0   \n",
       "2879  2879   42        1.0   M        YES         NaN     0.0   \n",
       "2945  2945   53        2.0   M        YES         NaN     0.0   \n",
       "3301  3301   55        1.0   M        YES         NaN     0.0   \n",
       "3378  3378   39        3.0   F        YES         NaN     0.0   \n",
       "\n",
       "      prevalentStroke  prevalentHyp  diabetes  totChol  sysBP  diaBP    BMI  \\\n",
       "422                 0             1         0    213.0  163.0   91.0  28.66   \n",
       "466                 0             1         0    170.0  145.5   99.0  26.74   \n",
       "469                 0             0         0    196.0  123.0   73.0  22.06   \n",
       "491                 0             1         0    356.0  168.0   98.0  27.30   \n",
       "538                 0             0         0    171.0  135.0   82.5  24.35   \n",
       "767                 0             0         0    219.0  110.0   72.0  26.05   \n",
       "1461                0             0         0    365.0  127.0   76.0  24.44   \n",
       "1467                0             0         0    252.0  123.0   69.0  21.45   \n",
       "1597                0             0         0    229.0  115.0   69.0  24.43   \n",
       "1986                0             1         0    233.0  158.0  102.0  25.31   \n",
       "2031                0             1         0    270.0  195.0  117.5  23.35   \n",
       "2087                0             0         0    256.0  127.5   81.5  28.21   \n",
       "2240                0             0         0    321.0  132.0   88.0  28.14   \n",
       "2284                0             0         0    248.0  121.0   72.0  27.88   \n",
       "2527                0             0         0    235.0  127.5   76.0  21.02   \n",
       "2638                0             0         0    223.0  107.5   72.5  24.74   \n",
       "2648                0             0         0    285.0  121.0   82.0  27.62   \n",
       "2723                0             0         0    222.0  109.5   69.0  25.50   \n",
       "2879                0             0         0    226.0  119.0   80.0  25.29   \n",
       "2945                0             0         0    276.0  130.0   86.0  24.21   \n",
       "3301                0             0         0    214.0  132.5   85.5  29.25   \n",
       "3378                0             0         0    197.0  126.5   76.5  19.71   \n",
       "\n",
       "      heartRate  glucose  TenYearCHD  \n",
       "422        69.0     66.0           0  \n",
       "466        83.0     85.0           0  \n",
       "469        66.0      NaN           0  \n",
       "491       103.0    106.0           0  \n",
       "538        79.0     82.0           0  \n",
       "767        95.0     86.0           0  \n",
       "1461       72.0     80.0           0  \n",
       "1467       72.0     89.0           0  \n",
       "1597       80.0     93.0           0  \n",
       "1986       90.0     72.0           0  \n",
       "2031       75.0      NaN           0  \n",
       "2087       93.0     85.0           1  \n",
       "2240       90.0     74.0           0  \n",
       "2284       64.0     88.0           0  \n",
       "2527       81.0    135.0           0  \n",
       "2638       62.0    103.0           0  \n",
       "2648       85.0     65.0           0  \n",
       "2723       75.0      NaN           0  \n",
       "2879       62.0     98.0           0  \n",
       "2945       58.0     82.0           0  \n",
       "3301       70.0    103.0           0  \n",
       "3378       55.0     63.0           0  "
      ]
     },
     "execution_count": 7,
     "metadata": {},
     "output_type": "execute_result"
    }
   ],
   "source": [
    "df[df['cigsPerDay'].isna()]"
   ]
  },
  {
   "cell_type": "code",
   "execution_count": 8,
   "id": "9d6596cf-22d6-4f50-b722-836c5c15817b",
   "metadata": {},
   "outputs": [
    {
     "data": {
      "text/plain": [
       "(18.345945945945946, 20.0)"
      ]
     },
     "execution_count": 8,
     "metadata": {},
     "output_type": "execute_result"
    }
   ],
   "source": [
    "df[df['is_smoking']=='YES']['cigsPerDay'].mean(),df[df['is_smoking']=='YES']['cigsPerDay'].median()"
   ]
  },
  {
   "cell_type": "code",
   "execution_count": 9,
   "id": "e9525ac4-2e6b-471c-adaa-3addd912813a",
   "metadata": {},
   "outputs": [],
   "source": [
    "df['cigsPerDay'] = df['cigsPerDay'].fillna(df[df['is_smoking']=='YES']['cigsPerDay'].median())"
   ]
  },
  {
   "cell_type": "code",
   "execution_count": 10,
   "id": "7476761c-a0c3-4615-9cb1-88336718cb9d",
   "metadata": {},
   "outputs": [
    {
     "data": {
      "text/html": [
       "<div>\n",
       "<style scoped>\n",
       "    .dataframe tbody tr th:only-of-type {\n",
       "        vertical-align: middle;\n",
       "    }\n",
       "\n",
       "    .dataframe tbody tr th {\n",
       "        vertical-align: top;\n",
       "    }\n",
       "\n",
       "    .dataframe thead th {\n",
       "        text-align: right;\n",
       "    }\n",
       "</style>\n",
       "<table border=\"1\" class=\"dataframe\">\n",
       "  <thead>\n",
       "    <tr style=\"text-align: right;\">\n",
       "      <th></th>\n",
       "      <th>id</th>\n",
       "      <th>age</th>\n",
       "      <th>education</th>\n",
       "      <th>sex</th>\n",
       "      <th>is_smoking</th>\n",
       "      <th>cigsPerDay</th>\n",
       "      <th>BPMeds</th>\n",
       "      <th>prevalentStroke</th>\n",
       "      <th>prevalentHyp</th>\n",
       "      <th>diabetes</th>\n",
       "      <th>totChol</th>\n",
       "      <th>sysBP</th>\n",
       "      <th>diaBP</th>\n",
       "      <th>BMI</th>\n",
       "      <th>heartRate</th>\n",
       "      <th>glucose</th>\n",
       "      <th>TenYearCHD</th>\n",
       "    </tr>\n",
       "  </thead>\n",
       "  <tbody>\n",
       "  </tbody>\n",
       "</table>\n",
       "</div>"
      ],
      "text/plain": [
       "Empty DataFrame\n",
       "Columns: [id, age, education, sex, is_smoking, cigsPerDay, BPMeds, prevalentStroke, prevalentHyp, diabetes, totChol, sysBP, diaBP, BMI, heartRate, glucose, TenYearCHD]\n",
       "Index: []"
      ]
     },
     "execution_count": 10,
     "metadata": {},
     "output_type": "execute_result"
    }
   ],
   "source": [
    "df[(df['is_smoking']=='NO') & (df['cigsPerDay']>0)]"
   ]
  },
  {
   "cell_type": "code",
   "execution_count": 11,
   "id": "c648320e-96ed-4157-9816-c9acab009d27",
   "metadata": {},
   "outputs": [
    {
     "data": {
      "text/html": [
       "<div>\n",
       "<style scoped>\n",
       "    .dataframe tbody tr th:only-of-type {\n",
       "        vertical-align: middle;\n",
       "    }\n",
       "\n",
       "    .dataframe tbody tr th {\n",
       "        vertical-align: top;\n",
       "    }\n",
       "\n",
       "    .dataframe thead th {\n",
       "        text-align: right;\n",
       "    }\n",
       "</style>\n",
       "<table border=\"1\" class=\"dataframe\">\n",
       "  <thead>\n",
       "    <tr style=\"text-align: right;\">\n",
       "      <th></th>\n",
       "      <th>id</th>\n",
       "      <th>age</th>\n",
       "      <th>education</th>\n",
       "      <th>sex</th>\n",
       "      <th>is_smoking</th>\n",
       "      <th>cigsPerDay</th>\n",
       "      <th>BPMeds</th>\n",
       "      <th>prevalentStroke</th>\n",
       "      <th>prevalentHyp</th>\n",
       "      <th>diabetes</th>\n",
       "      <th>totChol</th>\n",
       "      <th>sysBP</th>\n",
       "      <th>diaBP</th>\n",
       "      <th>BMI</th>\n",
       "      <th>heartRate</th>\n",
       "      <th>glucose</th>\n",
       "      <th>TenYearCHD</th>\n",
       "    </tr>\n",
       "  </thead>\n",
       "  <tbody>\n",
       "  </tbody>\n",
       "</table>\n",
       "</div>"
      ],
      "text/plain": [
       "Empty DataFrame\n",
       "Columns: [id, age, education, sex, is_smoking, cigsPerDay, BPMeds, prevalentStroke, prevalentHyp, diabetes, totChol, sysBP, diaBP, BMI, heartRate, glucose, TenYearCHD]\n",
       "Index: []"
      ]
     },
     "execution_count": 11,
     "metadata": {},
     "output_type": "execute_result"
    }
   ],
   "source": [
    "df[(df['is_smoking']=='YES') & (df['cigsPerDay']==0)]"
   ]
  },
  {
   "cell_type": "markdown",
   "id": "80e2d54b-5ae3-455c-82c0-c18d9c1b5cc3",
   "metadata": {},
   "source": [
    "### Cholesterol - BMI - Heartrate"
   ]
  },
  {
   "cell_type": "code",
   "execution_count": 12,
   "id": "eb19e9a7-031c-4e24-903e-8928191ba3e9",
   "metadata": {},
   "outputs": [
    {
     "data": {
      "text/plain": [
       "(237.07428400954655, 234.0)"
      ]
     },
     "execution_count": 12,
     "metadata": {},
     "output_type": "execute_result"
    }
   ],
   "source": [
    "df.totChol.mean(),df.totChol.median()"
   ]
  },
  {
   "cell_type": "code",
   "execution_count": 13,
   "id": "b976a866-587a-47a2-9e0d-e50076c32ff7",
   "metadata": {},
   "outputs": [
    {
     "data": {
      "text/plain": [
       "(25.7949644549763, 25.38)"
      ]
     },
     "execution_count": 13,
     "metadata": {},
     "output_type": "execute_result"
    }
   ],
   "source": [
    "df.BMI.mean(),df.BMI.median()"
   ]
  },
  {
   "cell_type": "code",
   "execution_count": 14,
   "id": "23ce5022-2708-4e3e-af8e-464b1c53e903",
   "metadata": {},
   "outputs": [
    {
     "data": {
      "text/plain": [
       "(75.97727943346119, 75.0)"
      ]
     },
     "execution_count": 14,
     "metadata": {},
     "output_type": "execute_result"
    }
   ],
   "source": [
    "df.heartRate.mean(),df.heartRate.median()"
   ]
  },
  {
   "cell_type": "code",
   "execution_count": 15,
   "id": "dbe0a95a-3b45-4b68-8eb1-6e4a32ac30b0",
   "metadata": {},
   "outputs": [],
   "source": [
    "df['totChol'] = df['totChol'].fillna(df['totChol'].median())\n",
    "df['BMI'] = df['BMI'].fillna(df['BMI'].median())\n",
    "df['heartRate'] = df['heartRate'].fillna(df['heartRate'].median())"
   ]
  },
  {
   "cell_type": "code",
   "execution_count": 16,
   "id": "e8680b6e-7ba9-45bf-a3a7-7b763439739b",
   "metadata": {},
   "outputs": [
    {
     "data": {
      "text/plain": [
       "(237.03982300884957, 234.0)"
      ]
     },
     "execution_count": 16,
     "metadata": {},
     "output_type": "execute_result"
    }
   ],
   "source": [
    "df.totChol.mean(),df.totChol.median()"
   ]
  },
  {
   "cell_type": "code",
   "execution_count": 17,
   "id": "bd8a68c2-30bd-486d-bdf1-5c6b48f3c18d",
   "metadata": {},
   "outputs": [
    {
     "data": {
      "text/plain": [
       "(25.793250737463126, 25.38)"
      ]
     },
     "execution_count": 17,
     "metadata": {},
     "output_type": "execute_result"
    }
   ],
   "source": [
    "df.BMI.mean(),df.BMI.median()"
   ]
  },
  {
   "cell_type": "code",
   "execution_count": 18,
   "id": "e401a4f3-2954-4ab0-bebd-288bc6b5e5cb",
   "metadata": {},
   "outputs": [
    {
     "data": {
      "text/plain": [
       "(75.97699115044247, 75.0)"
      ]
     },
     "execution_count": 18,
     "metadata": {},
     "output_type": "execute_result"
    }
   ],
   "source": [
    "df.heartRate.mean(),df.heartRate.median()"
   ]
  },
  {
   "cell_type": "markdown",
   "id": "f1c45c79-7bf1-46cd-864a-91f7c1a28bc4",
   "metadata": {},
   "source": [
    "### Glucose"
   ]
  },
  {
   "cell_type": "code",
   "execution_count": 19,
   "id": "0aba0751-289c-43fd-b48b-8a75f889b500",
   "metadata": {},
   "outputs": [
    {
     "data": {
      "text/plain": [
       "304"
      ]
     },
     "execution_count": 19,
     "metadata": {},
     "output_type": "execute_result"
    }
   ],
   "source": [
    "df.glucose.isna().sum()"
   ]
  },
  {
   "cell_type": "code",
   "execution_count": 20,
   "id": "ce2f1fb9-52e3-41ab-b47b-2d0b578b440d",
   "metadata": {},
   "outputs": [
    {
     "data": {
      "text/plain": [
       "(82.08651976668827,\n",
       " 78.0,\n",
       " 0    75.0\n",
       " Name: glucose, dtype: float64)"
      ]
     },
     "execution_count": 20,
     "metadata": {},
     "output_type": "execute_result"
    }
   ],
   "source": [
    "df.glucose.mean(),df.glucose.median(),df.glucose.mode()"
   ]
  },
  {
   "cell_type": "code",
   "execution_count": 21,
   "id": "8c4da417-190c-4b9a-8b5e-04b43dc53537",
   "metadata": {},
   "outputs": [],
   "source": [
    "df['sex'] = np.where(df['sex'] == 'M',1,0)\n",
    "df['is_smoking'] = np.where(df['is_smoking'] == 'YES',1,0)"
   ]
  },
  {
   "cell_type": "code",
   "execution_count": 22,
   "id": "2471d961-57f9-4e2d-a8bf-a83c80d658b7",
   "metadata": {},
   "outputs": [],
   "source": [
    "# changing datatypes\n",
    "df = df.astype({'age': int,'sex':int,'is_smoking':int,'cigsPerDay':int,\n",
    "               'BPMeds':int,'prevalentStroke':int,'prevalentHyp':int,'diabetes':int,\n",
    "               'totChol':float,'sysBP':float,'diaBP':float,\n",
    "               'BMI':float,'heartRate':float,'glucose':float,'TenYearCHD':int})"
   ]
  },
  {
   "cell_type": "code",
   "execution_count": 23,
   "id": "ccbe3d99-9d0b-4258-a133-c2c8c9ba528d",
   "metadata": {},
   "outputs": [],
   "source": [
    "# Using KNN imputer with K=10\n",
    "imputer = KNNImputer(n_neighbors=10)\n",
    "imputed = imputer.fit_transform(df)\n",
    "df = pd.DataFrame(imputed, columns=df.columns)"
   ]
  },
  {
   "cell_type": "code",
   "execution_count": 24,
   "id": "3342d78a-e13e-4050-acd1-20cf13291099",
   "metadata": {},
   "outputs": [
    {
     "data": {
      "text/plain": [
       "(82.07203539823007,\n",
       " 78.05,\n",
       " 0    75.0\n",
       " Name: glucose, dtype: float64)"
      ]
     },
     "execution_count": 24,
     "metadata": {},
     "output_type": "execute_result"
    }
   ],
   "source": [
    "# mean, median, and mode for glucose after knn imputation\n",
    "df.glucose.mean(),df.glucose.median(),df.glucose.mode()"
   ]
  },
  {
   "cell_type": "code",
   "execution_count": 25,
   "id": "60b81381-5882-4959-bf76-af28d458a03b",
   "metadata": {},
   "outputs": [
    {
     "data": {
      "text/plain": [
       "id                 0\n",
       "age                0\n",
       "education          0\n",
       "sex                0\n",
       "is_smoking         0\n",
       "cigsPerDay         0\n",
       "BPMeds             0\n",
       "prevalentStroke    0\n",
       "prevalentHyp       0\n",
       "diabetes           0\n",
       "totChol            0\n",
       "sysBP              0\n",
       "diaBP              0\n",
       "BMI                0\n",
       "heartRate          0\n",
       "glucose            0\n",
       "TenYearCHD         0\n",
       "dtype: int64"
      ]
     },
     "execution_count": 25,
     "metadata": {},
     "output_type": "execute_result"
    }
   ],
   "source": [
    "df.isna().sum()"
   ]
  },
  {
   "cell_type": "code",
   "execution_count": null,
   "id": "617a795e-185d-4d7a-b84e-d12d64f79f82",
   "metadata": {},
   "outputs": [],
   "source": [
    "\n"
   ]
  },
  {
   "cell_type": "code",
   "execution_count": 26,
   "id": "6c468f57-5026-497d-8c98-0e8cfff0f550",
   "metadata": {},
   "outputs": [
    {
     "data": {
      "text/html": [
       "<div>\n",
       "<style scoped>\n",
       "    .dataframe tbody tr th:only-of-type {\n",
       "        vertical-align: middle;\n",
       "    }\n",
       "\n",
       "    .dataframe tbody tr th {\n",
       "        vertical-align: top;\n",
       "    }\n",
       "\n",
       "    .dataframe thead th {\n",
       "        text-align: right;\n",
       "    }\n",
       "</style>\n",
       "<table border=\"1\" class=\"dataframe\">\n",
       "  <thead>\n",
       "    <tr style=\"text-align: right;\">\n",
       "      <th></th>\n",
       "      <th>sysBP</th>\n",
       "      <th>glucose</th>\n",
       "      <th>age</th>\n",
       "      <th>cigsPerDay</th>\n",
       "      <th>totChol</th>\n",
       "      <th>diaBP</th>\n",
       "      <th>prevalentHyp</th>\n",
       "      <th>sex</th>\n",
       "      <th>BPMeds</th>\n",
       "      <th>diabetes</th>\n",
       "      <th>TenYearCHD</th>\n",
       "    </tr>\n",
       "  </thead>\n",
       "  <tbody>\n",
       "    <tr>\n",
       "      <th>0</th>\n",
       "      <td>148.0</td>\n",
       "      <td>80.0</td>\n",
       "      <td>64.0</td>\n",
       "      <td>3.0</td>\n",
       "      <td>221.0</td>\n",
       "      <td>85.0</td>\n",
       "      <td>0.0</td>\n",
       "      <td>0.0</td>\n",
       "      <td>0.0</td>\n",
       "      <td>0.0</td>\n",
       "      <td>1.0</td>\n",
       "    </tr>\n",
       "    <tr>\n",
       "      <th>1</th>\n",
       "      <td>168.0</td>\n",
       "      <td>75.0</td>\n",
       "      <td>36.0</td>\n",
       "      <td>0.0</td>\n",
       "      <td>212.0</td>\n",
       "      <td>98.0</td>\n",
       "      <td>1.0</td>\n",
       "      <td>1.0</td>\n",
       "      <td>0.0</td>\n",
       "      <td>0.0</td>\n",
       "      <td>0.0</td>\n",
       "    </tr>\n",
       "    <tr>\n",
       "      <th>2</th>\n",
       "      <td>116.0</td>\n",
       "      <td>94.0</td>\n",
       "      <td>46.0</td>\n",
       "      <td>10.0</td>\n",
       "      <td>250.0</td>\n",
       "      <td>71.0</td>\n",
       "      <td>0.0</td>\n",
       "      <td>0.0</td>\n",
       "      <td>0.0</td>\n",
       "      <td>0.0</td>\n",
       "      <td>0.0</td>\n",
       "    </tr>\n",
       "    <tr>\n",
       "      <th>3</th>\n",
       "      <td>158.0</td>\n",
       "      <td>94.0</td>\n",
       "      <td>50.0</td>\n",
       "      <td>20.0</td>\n",
       "      <td>233.0</td>\n",
       "      <td>88.0</td>\n",
       "      <td>1.0</td>\n",
       "      <td>1.0</td>\n",
       "      <td>0.0</td>\n",
       "      <td>0.0</td>\n",
       "      <td>1.0</td>\n",
       "    </tr>\n",
       "    <tr>\n",
       "      <th>4</th>\n",
       "      <td>136.5</td>\n",
       "      <td>77.0</td>\n",
       "      <td>64.0</td>\n",
       "      <td>30.0</td>\n",
       "      <td>241.0</td>\n",
       "      <td>85.0</td>\n",
       "      <td>0.0</td>\n",
       "      <td>0.0</td>\n",
       "      <td>0.0</td>\n",
       "      <td>0.0</td>\n",
       "      <td>0.0</td>\n",
       "    </tr>\n",
       "  </tbody>\n",
       "</table>\n",
       "</div>"
      ],
      "text/plain": [
       "   sysBP  glucose   age  cigsPerDay  totChol  diaBP  prevalentHyp  sex  \\\n",
       "0  148.0     80.0  64.0         3.0    221.0   85.0           0.0  0.0   \n",
       "1  168.0     75.0  36.0         0.0    212.0   98.0           1.0  1.0   \n",
       "2  116.0     94.0  46.0        10.0    250.0   71.0           0.0  0.0   \n",
       "3  158.0     94.0  50.0        20.0    233.0   88.0           1.0  1.0   \n",
       "4  136.5     77.0  64.0        30.0    241.0   85.0           0.0  0.0   \n",
       "\n",
       "   BPMeds  diabetes  TenYearCHD  \n",
       "0     0.0       0.0         1.0  \n",
       "1     0.0       0.0         0.0  \n",
       "2     0.0       0.0         0.0  \n",
       "3     0.0       0.0         1.0  \n",
       "4     0.0       0.0         0.0  "
      ]
     },
     "execution_count": 26,
     "metadata": {},
     "output_type": "execute_result"
    }
   ],
   "source": [
    "df=df[['sysBP','glucose','age','cigsPerDay','totChol','diaBP','prevalentHyp','sex','BPMeds','diabetes','TenYearCHD']]\n",
    "df.head()"
   ]
  },
  {
   "cell_type": "code",
   "execution_count": 27,
   "id": "6f47394b-8001-4d2e-afc5-82c3ca6826d1",
   "metadata": {},
   "outputs": [],
   "source": [
    "scaler = StandardScaler()\n",
    "features = [i for i in df.columns if i not in ['TenYearCHD']]"
   ]
  },
  {
   "cell_type": "code",
   "execution_count": 28,
   "id": "872790aa-4fae-41e7-995f-4a4d037ba362",
   "metadata": {},
   "outputs": [
    {
     "data": {
      "text/plain": [
       "['sysBP',\n",
       " 'glucose',\n",
       " 'age',\n",
       " 'cigsPerDay',\n",
       " 'totChol',\n",
       " 'diaBP',\n",
       " 'prevalentHyp',\n",
       " 'sex',\n",
       " 'BPMeds',\n",
       " 'diabetes']"
      ]
     },
     "execution_count": 28,
     "metadata": {},
     "output_type": "execute_result"
    }
   ],
   "source": [
    "features"
   ]
  },
  {
   "cell_type": "code",
   "execution_count": 29,
   "id": "f6c2512b-5ab6-4d27-8e3e-7bb6a7957238",
   "metadata": {},
   "outputs": [],
   "source": [
    "df[features] = scaler.fit_transform(df[features])"
   ]
  },
  {
   "cell_type": "code",
   "execution_count": null,
   "id": "6c9d2cb5-8ba1-4fd6-98b9-42864b6ae00f",
   "metadata": {},
   "outputs": [],
   "source": []
  },
  {
   "cell_type": "markdown",
   "id": "8536304a-df34-4a09-8783-626ba16d0f60",
   "metadata": {},
   "source": [
    "## Splitting Data as Train and Test"
   ]
  },
  {
   "cell_type": "code",
   "execution_count": 30,
   "id": "2001dde4-8cb2-4183-b327-b456b763b5d1",
   "metadata": {},
   "outputs": [],
   "source": [
    "X = df.drop('TenYearCHD', axis=1)  \n",
    "y = df['TenYearCHD']\n",
    "X_train, X_test, y_train, y_test = train_test_split(X, y, test_size=0.2, random_state=42)\n",
    "\n",
    "scaler = StandardScaler()\n",
    "train_x = scaler.fit_transform(X_train)\n",
    "test_x = scaler.transform(X_test)"
   ]
  },
  {
   "cell_type": "markdown",
   "id": "a76b3a85-2299-4330-abd4-9b43a5d4f460",
   "metadata": {},
   "source": [
    "## Handling Imbalanced Dataset"
   ]
  },
  {
   "cell_type": "code",
   "execution_count": 31,
   "id": "2e4e9a8a-7514-4e29-934d-a8bcd3b2d18d",
   "metadata": {},
   "outputs": [
    {
     "data": {
      "image/png": "[encoded data removed]",
      "text/plain": [
       "<Figure size 640x480 with 1 Axes>"
      ]
     },
     "metadata": {},
     "output_type": "display_data"
    }
   ],
   "source": [
    "# Handling Imbalanced Dataset (If needed)\n",
    "\n",
    "# Visualize the target variable before SMOTE\n",
    "y_train.value_counts().plot(kind='bar', title='Target variable before SMOTE')\n",
    "plt.show()"
   ]
  },
  {
   "cell_type": "code",
   "execution_count": 32,
   "id": "6a7cea26-9d87-46a3-9323-ecd5a6f885e0",
   "metadata": {},
   "outputs": [
    {
     "name": "stdout",
     "output_type": "stream",
     "text": [
      "Samples in the original dataset:  2712\n",
      "Samples in the resampled dataset:  4514\n"
     ]
    }
   ],
   "source": [
    "X_smote, y_smote = SMOTETomek(random_state=0).fit_resample(X_train, y_train)\n",
    "\n",
    "print('Samples in the original dataset: ', len(y_train))\n",
    "print('Samples in the resampled dataset: ', len(y_smote))"
   ]
  },
  {
   "cell_type": "code",
   "execution_count": 33,
   "id": "535632db-daf1-438c-80ad-37f5f2c15303",
   "metadata": {},
   "outputs": [
    {
     "data": {
      "image/png": "[encoded data removed]",
      "text/plain": [
       "<Figure size 640x480 with 1 Axes>"
      ]
     },
     "metadata": {},
     "output_type": "display_data"
    }
   ],
   "source": [
    "# Visualize the target variable after SMOTE\n",
    "y_smote.value_counts().plot(kind='bar', title='Target variable after SMOTE')\n",
    "plt.show()"
   ]
  },
  {
   "cell_type": "code",
   "execution_count": 34,
   "id": "7ff9120e-10ff-4b6f-9edc-b59255538f34",
   "metadata": {},
   "outputs": [],
   "source": [
    "def evaluate_model(model, X_train, X_test, y_train, y_test):\n",
    "    model.fit(X_train, y_train)\n",
    "    \n",
    "    # make predictions on the test data\n",
    "    y_pred_train = model.predict(X_train)\n",
    "    y_pred_test = model.predict(X_test)\n",
    "    pred_prob_train = model.predict_proba(X_train)[:,1]\n",
    "    pred_prob_test = model.predict_proba(X_test)[:,1]\n",
    "    \n",
    "    # calculate ROC AUC score\n",
    "    roc_auc_train = roc_auc_score(y_train, y_pred_train)\n",
    "    roc_auc_test = roc_auc_score(y_test, y_pred_test)\n",
    "    print(\"\\nTrain ROC AUC:\", roc_auc_train)\n",
    "    print(\"Test ROC AUC:\", roc_auc_test)\n",
    "\n",
    "    # plot the ROC curve\n",
    "    fpr_train, tpr_train, thresholds_train = roc_curve(y_train, pred_prob_train)\n",
    "    fpr_test, tpr_test, thresholds_test = roc_curve(y_test, pred_prob_test)\n",
    "    plt.plot([0,1],[0,1],'k--')\n",
    "    plt.plot(fpr_train, tpr_train, label=\"Train ROC AUC: {:.2f}\".format(roc_auc_train))\n",
    "    plt.plot(fpr_test, tpr_test, label=\"Test ROC AUC: {:.2f}\".format(roc_auc_test))\n",
    "    plt.legend()\n",
    "    plt.title(\"ROC Curve\")\n",
    "    plt.xlabel(\"False Positive Rate\")\n",
    "    plt.ylabel(\"True Positive Rate\")\n",
    "    plt.show()\n",
    "\n",
    "    # calculate confusion matrix\n",
    "    cm_train = confusion_matrix(y_train, y_pred_train)\n",
    "    cm_test = confusion_matrix(y_test, y_pred_test)\n",
    "\n",
    "    fig, ax = plt.subplots(1, 2, figsize=(10,4))\n",
    "\n",
    "    print(\"\\nConfusion Matrix:\")\n",
    "    sns.heatmap(cm_train, annot=True, xticklabels=['Negative', 'Positive'], yticklabels=['Negative', 'Positive'], cmap=\"Oranges\", fmt='.4g', ax=ax[0])\n",
    "    ax[0].set_xlabel(\"Predicted Label\")\n",
    "    ax[0].set_ylabel(\"True Label\")\n",
    "    ax[0].set_title(\"Train Confusion Matrix\")\n",
    "\n",
    "    sns.heatmap(cm_test, annot=True, xticklabels=['Negative', 'Positive'], yticklabels=['Negative', 'Positive'], cmap=\"Oranges\", fmt='.4g', ax=ax[1])\n",
    "    ax[1].set_xlabel(\"Predicted Label\")\n",
    "    ax[1].set_ylabel(\"True Label\")\n",
    "    ax[1].set_title(\"Test Confusion Matrix\")\n",
    "\n",
    "    plt.tight_layout()\n",
    "    plt.show()\n",
    "\n",
    "    # calculate classification report\n",
    "    cr_train = classification_report(y_train, y_pred_train, output_dict=True)\n",
    "    cr_test = classification_report(y_test, y_pred_test, output_dict=True)\n",
    "    print(\"\\nTrain Classification Report:\")\n",
    "    crt = pd.DataFrame(cr_train).T\n",
    "    print(crt.to_markdown())\n",
    "    # sns.heatmap(pd.DataFrame(cr_train).T.iloc[:, :-1], annot=True, cmap=\"Blues\")\n",
    "    print(\"\\nTest Classification Report:\")\n",
    "    crt2 = pd.DataFrame(cr_test).T\n",
    "    print(crt2.to_markdown())\n",
    "    # sns.heatmap(pd.DataFrame(cr_test).T.iloc[:, :-1], annot=True, cmap=\"Blues\")\n",
    "\n",
    "    precision_train = cr_train['weighted avg']['precision']\n",
    "    precision_test = cr_test['weighted avg']['precision']\n",
    "\n",
    "    recall_train = cr_train['weighted avg']['recall']\n",
    "    recall_test = cr_test['weighted avg']['recall']\n",
    "\n",
    "    acc_train = accuracy_score(y_true = y_train, y_pred = y_pred_train)\n",
    "    acc_test = accuracy_score(y_true = y_test, y_pred = y_pred_test)\n",
    "\n",
    "    F1_train = cr_train['weighted avg']['f1-score']\n",
    "    F1_test = cr_test['weighted avg']['f1-score']\n",
    "\n",
    "    model_score = [precision_train, precision_test, recall_train, recall_test, acc_train, acc_test, roc_auc_train, roc_auc_test, F1_train, F1_test ]\n",
    "    return model_score"
   ]
  },
  {
   "cell_type": "markdown",
   "id": "01ec9032-f522-46bf-9d27-f21dfeb12aa9",
   "metadata": {},
   "source": [
    "## Logistic Regression"
   ]
  },
  {
   "cell_type": "code",
   "execution_count": 35,
   "id": "d3427b11-b321-4c0c-8499-7f0864d1e8f0",
   "metadata": {},
   "outputs": [
    {
     "name": "stdout",
     "output_type": "stream",
     "text": [
      "\n",
      "Train ROC AUC: 0.6902968542312805\n",
      "Test ROC AUC: 0.6672729208439057\n"
     ]
    },
    {
     "data": {
      "image/png": "[encoded data removed]",
      "text/plain": [
       "<Figure size 640x480 with 1 Axes>"
      ]
     },
     "metadata": {},
     "output_type": "display_data"
    },
    {
     "name": "stdout",
     "output_type": "stream",
     "text": [
      "\n",
      "Confusion Matrix:\n"
     ]
    },
    {
     "data": {
      "image/png": "[encoded data removed]",
      "text/plain": [
       "<Figure size 1000x400 with 4 Axes>"
      ]
     },
     "metadata": {},
     "output_type": "display_data"
    },
    {
     "name": "stdout",
     "output_type": "stream",
     "text": [
      "\n",
      "Train Classification Report:\n",
      "|              |   precision |   recall |   f1-score |     support |\n",
      "|:-------------|------------:|---------:|-----------:|------------:|\n",
      "| 0.0          |    0.697471 | 0.672131 |   0.684567 | 2257        |\n",
      "| 1.0          |    0.683625 | 0.708463 |   0.695822 | 2257        |\n",
      "| accuracy     |    0.690297 | 0.690297 |   0.690297 |    0.690297 |\n",
      "| macro avg    |    0.690548 | 0.690297 |   0.690195 | 4514        |\n",
      "| weighted avg |    0.690548 | 0.690297 |   0.690195 | 4514        |\n",
      "\n",
      "Test Classification Report:\n",
      "|              |   precision |   recall |   f1-score |   support |\n",
      "|:-------------|------------:|---------:|-----------:|----------:|\n",
      "| 0.0          |    0.919283 | 0.70568  |   0.798442 | 581       |\n",
      "| 1.0          |    0.262931 | 0.628866 |   0.370821 |  97       |\n",
      "| accuracy     |    0.69469  | 0.69469  |   0.69469  |   0.69469 |\n",
      "| macro avg    |    0.591107 | 0.667273 |   0.584631 | 678       |\n",
      "| weighted avg |    0.82538  | 0.69469  |   0.737263 | 678       |\n"
     ]
    }
   ],
   "source": [
    "lr_model = LogisticRegression(fit_intercept=True, max_iter=10000)\n",
    "lr_score = evaluate_model(lr_model, X_smote, X_test, y_smote, y_test)"
   ]
  },
  {
   "cell_type": "code",
   "execution_count": 36,
   "id": "42a6df95-0fc6-4d11-8823-2766cc391848",
   "metadata": {},
   "outputs": [
    {
     "data": {
      "text/html": [
       "<div>\n",
       "<style scoped>\n",
       "    .dataframe tbody tr th:only-of-type {\n",
       "        vertical-align: middle;\n",
       "    }\n",
       "\n",
       "    .dataframe tbody tr th {\n",
       "        vertical-align: top;\n",
       "    }\n",
       "\n",
       "    .dataframe thead th {\n",
       "        text-align: right;\n",
       "    }\n",
       "</style>\n",
       "<table border=\"1\" class=\"dataframe\">\n",
       "  <thead>\n",
       "    <tr style=\"text-align: right;\">\n",
       "      <th></th>\n",
       "      <th>Logistic regression</th>\n",
       "    </tr>\n",
       "  </thead>\n",
       "  <tbody>\n",
       "    <tr>\n",
       "      <th>Precision Train</th>\n",
       "      <td>0.690548</td>\n",
       "    </tr>\n",
       "    <tr>\n",
       "      <th>Precision Test</th>\n",
       "      <td>0.825380</td>\n",
       "    </tr>\n",
       "    <tr>\n",
       "      <th>Recall Train</th>\n",
       "      <td>0.690297</td>\n",
       "    </tr>\n",
       "    <tr>\n",
       "      <th>Recall Test</th>\n",
       "      <td>0.694690</td>\n",
       "    </tr>\n",
       "    <tr>\n",
       "      <th>Accuracy Train</th>\n",
       "      <td>0.690297</td>\n",
       "    </tr>\n",
       "    <tr>\n",
       "      <th>Accuracy Test</th>\n",
       "      <td>0.694690</td>\n",
       "    </tr>\n",
       "    <tr>\n",
       "      <th>ROC-AUC Train</th>\n",
       "      <td>0.690297</td>\n",
       "    </tr>\n",
       "    <tr>\n",
       "      <th>ROC-AUC Test</th>\n",
       "      <td>0.667273</td>\n",
       "    </tr>\n",
       "    <tr>\n",
       "      <th>F1 macro Train</th>\n",
       "      <td>0.690195</td>\n",
       "    </tr>\n",
       "    <tr>\n",
       "      <th>F1 macro Test</th>\n",
       "      <td>0.737263</td>\n",
       "    </tr>\n",
       "  </tbody>\n",
       "</table>\n",
       "</div>"
      ],
      "text/plain": [
       "                 Logistic regression\n",
       "Precision Train             0.690548\n",
       "Precision Test              0.825380\n",
       "Recall Train                0.690297\n",
       "Recall Test                 0.694690\n",
       "Accuracy Train              0.690297\n",
       "Accuracy Test               0.694690\n",
       "ROC-AUC Train               0.690297\n",
       "ROC-AUC Test                0.667273\n",
       "F1 macro Train              0.690195\n",
       "F1 macro Test               0.737263"
      ]
     },
     "execution_count": 36,
     "metadata": {},
     "output_type": "execute_result"
    }
   ],
   "source": [
    "score = pd.DataFrame(index = ['Precision Train', 'Precision Test','Recall Train','Recall Test','Accuracy Train', 'Accuracy Test','ROC-AUC Train', 'ROC-AUC Test','F1 macro Train', 'F1 macro Test'])    \n",
    "score['Logistic regression'] = lr_score\n",
    "score"
   ]
  },
  {
   "cell_type": "markdown",
   "id": "34952faf-7831-4407-a23e-8a638d07fb85",
   "metadata": {},
   "source": [
    "## Random Forest"
   ]
  },
  {
   "cell_type": "code",
   "execution_count": 37,
   "id": "93e9afbf-f9e5-4219-8157-0fd6234035e6",
   "metadata": {},
   "outputs": [
    {
     "name": "stdout",
     "output_type": "stream",
     "text": [
      "\n",
      "Train ROC AUC: 1.0\n",
      "Test ROC AUC: 0.5969710949837642\n"
     ]
    },
    {
     "data": {
      "image/png": "[encoded data removed]",
      "text/plain": [
       "<Figure size 640x480 with 1 Axes>"
      ]
     },
     "metadata": {},
     "output_type": "display_data"
    },
    {
     "name": "stdout",
     "output_type": "stream",
     "text": [
      "\n",
      "Confusion Matrix:\n"
     ]
    },
    {
     "data": {
      "image/png": "[encoded data removed]",
      "text/plain": [
       "<Figure size 1000x400 with 4 Axes>"
      ]
     },
     "metadata": {},
     "output_type": "display_data"
    },
    {
     "name": "stdout",
     "output_type": "stream",
     "text": [
      "\n",
      "Train Classification Report:\n",
      "|              |   precision |   recall |   f1-score |   support |\n",
      "|:-------------|------------:|---------:|-----------:|----------:|\n",
      "| 0.0          |           1 |        1 |          1 |      2257 |\n",
      "| 1.0          |           1 |        1 |          1 |      2257 |\n",
      "| accuracy     |           1 |        1 |          1 |         1 |\n",
      "| macro avg    |           1 |        1 |          1 |      4514 |\n",
      "| weighted avg |           1 |        1 |          1 |      4514 |\n",
      "\n",
      "Test Classification Report:\n",
      "|              |   precision |   recall |   f1-score |    support |\n",
      "|:-------------|------------:|---------:|-----------:|-----------:|\n",
      "| 0.0          |    0.885017 | 0.874355 |   0.879654 | 581        |\n",
      "| 1.0          |    0.298077 | 0.319588 |   0.308458 |  97        |\n",
      "| accuracy     |    0.794985 | 0.794985 |   0.794985 |   0.794985 |\n",
      "| macro avg    |    0.591547 | 0.596971 |   0.594056 | 678        |\n",
      "| weighted avg |    0.801045 | 0.794985 |   0.797934 | 678        |\n"
     ]
    }
   ],
   "source": [
    "rf_model = RandomForestClassifier(random_state=0)\n",
    "rf_score = evaluate_model(rf_model, X_smote, X_test, y_smote, y_test)"
   ]
  },
  {
   "cell_type": "code",
   "execution_count": 38,
   "id": "b400820a-9c2f-403b-95d2-535124207b35",
   "metadata": {},
   "outputs": [
    {
     "data": {
      "text/html": [
       "<div>\n",
       "<style scoped>\n",
       "    .dataframe tbody tr th:only-of-type {\n",
       "        vertical-align: middle;\n",
       "    }\n",
       "\n",
       "    .dataframe tbody tr th {\n",
       "        vertical-align: top;\n",
       "    }\n",
       "\n",
       "    .dataframe thead th {\n",
       "        text-align: right;\n",
       "    }\n",
       "</style>\n",
       "<table border=\"1\" class=\"dataframe\">\n",
       "  <thead>\n",
       "    <tr style=\"text-align: right;\">\n",
       "      <th></th>\n",
       "      <th>Logistic regression</th>\n",
       "      <th>Random Forest</th>\n",
       "    </tr>\n",
       "  </thead>\n",
       "  <tbody>\n",
       "    <tr>\n",
       "      <th>Precision Train</th>\n",
       "      <td>0.690548</td>\n",
       "      <td>1.000000</td>\n",
       "    </tr>\n",
       "    <tr>\n",
       "      <th>Precision Test</th>\n",
       "      <td>0.825380</td>\n",
       "      <td>0.801045</td>\n",
       "    </tr>\n",
       "    <tr>\n",
       "      <th>Recall Train</th>\n",
       "      <td>0.690297</td>\n",
       "      <td>1.000000</td>\n",
       "    </tr>\n",
       "    <tr>\n",
       "      <th>Recall Test</th>\n",
       "      <td>0.694690</td>\n",
       "      <td>0.794985</td>\n",
       "    </tr>\n",
       "    <tr>\n",
       "      <th>Accuracy Train</th>\n",
       "      <td>0.690297</td>\n",
       "      <td>1.000000</td>\n",
       "    </tr>\n",
       "    <tr>\n",
       "      <th>Accuracy Test</th>\n",
       "      <td>0.694690</td>\n",
       "      <td>0.794985</td>\n",
       "    </tr>\n",
       "    <tr>\n",
       "      <th>ROC-AUC Train</th>\n",
       "      <td>0.690297</td>\n",
       "      <td>1.000000</td>\n",
       "    </tr>\n",
       "    <tr>\n",
       "      <th>ROC-AUC Test</th>\n",
       "      <td>0.667273</td>\n",
       "      <td>0.596971</td>\n",
       "    </tr>\n",
       "    <tr>\n",
       "      <th>F1 macro Train</th>\n",
       "      <td>0.690195</td>\n",
       "      <td>1.000000</td>\n",
       "    </tr>\n",
       "    <tr>\n",
       "      <th>F1 macro Test</th>\n",
       "      <td>0.737263</td>\n",
       "      <td>0.797934</td>\n",
       "    </tr>\n",
       "  </tbody>\n",
       "</table>\n",
       "</div>"
      ],
      "text/plain": [
       "                 Logistic regression  Random Forest\n",
       "Precision Train             0.690548       1.000000\n",
       "Precision Test              0.825380       0.801045\n",
       "Recall Train                0.690297       1.000000\n",
       "Recall Test                 0.694690       0.794985\n",
       "Accuracy Train              0.690297       1.000000\n",
       "Accuracy Test               0.694690       0.794985\n",
       "ROC-AUC Train               0.690297       1.000000\n",
       "ROC-AUC Test                0.667273       0.596971\n",
       "F1 macro Train              0.690195       1.000000\n",
       "F1 macro Test               0.737263       0.797934"
      ]
     },
     "execution_count": 38,
     "metadata": {},
     "output_type": "execute_result"
    }
   ],
   "source": [
    "score['Random Forest'] = rf_score\n",
    "score"
   ]
  },
  {
   "cell_type": "markdown",
   "id": "ef3d1c7f-bbed-4232-99fe-badbcb89d73d",
   "metadata": {},
   "source": [
    "## eXtreme Gradient Boosting"
   ]
  },
  {
   "cell_type": "code",
   "execution_count": 39,
   "id": "2870cb59-e1b4-4b79-9a4b-1b48337fe88c",
   "metadata": {},
   "outputs": [
    {
     "name": "stdout",
     "output_type": "stream",
     "text": [
      "\n",
      "Train ROC AUC: 0.9909171466548515\n",
      "Test ROC AUC: 0.5927036570434906\n"
     ]
    },
    {
     "data": {
      "image/png": "[encoded data removed]",
      "text/plain": [
       "<Figure size 640x480 with 1 Axes>"
      ]
     },
     "metadata": {},
     "output_type": "display_data"
    },
    {
     "name": "stdout",
     "output_type": "stream",
     "text": [
      "\n",
      "Confusion Matrix:\n"
     ]
    },
    {
     "data": {
      "image/png": "[encoded data removed]",
      "text/plain": [
       "<Figure size 1000x400 with 4 Axes>"
      ]
     },
     "metadata": {},
     "output_type": "display_data"
    },
    {
     "name": "stdout",
     "output_type": "stream",
     "text": [
      "\n",
      "Train Classification Report:\n",
      "|              |   precision |   recall |   f1-score |     support |\n",
      "|:-------------|------------:|---------:|-----------:|------------:|\n",
      "| 0.0          |    0.984689 | 0.997342 |   0.990975 | 2257        |\n",
      "| 1.0          |    0.997307 | 0.984493 |   0.990858 | 2257        |\n",
      "| accuracy     |    0.990917 | 0.990917 |   0.990917 |    0.990917 |\n",
      "| macro avg    |    0.990998 | 0.990917 |   0.990917 | 4514        |\n",
      "| weighted avg |    0.990998 | 0.990917 |   0.990917 | 4514        |\n",
      "\n",
      "Test Classification Report:\n",
      "|              |   precision |   recall |   f1-score |    support |\n",
      "|:-------------|------------:|---------:|-----------:|-----------:|\n",
      "| 0.0          |    0.882747 | 0.907057 |   0.894737 | 581        |\n",
      "| 1.0          |    0.333333 | 0.278351 |   0.303371 |  97        |\n",
      "| accuracy     |    0.817109 | 0.817109 |   0.817109 |   0.817109 |\n",
      "| macro avg    |    0.60804  | 0.592704 |   0.599054 | 678        |\n",
      "| weighted avg |    0.804144 | 0.817109 |   0.810131 | 678        |\n"
     ]
    }
   ],
   "source": [
    "xgb_model = xgb.XGBClassifier()\n",
    "xgb_score = evaluate_model(xgb_model, X_smote, X_test, y_smote, y_test)"
   ]
  },
  {
   "cell_type": "code",
   "execution_count": 40,
   "id": "b607bd38-d6ac-4698-b694-35b103464c78",
   "metadata": {},
   "outputs": [
    {
     "data": {
      "text/html": [
       "<div>\n",
       "<style scoped>\n",
       "    .dataframe tbody tr th:only-of-type {\n",
       "        vertical-align: middle;\n",
       "    }\n",
       "\n",
       "    .dataframe tbody tr th {\n",
       "        vertical-align: top;\n",
       "    }\n",
       "\n",
       "    .dataframe thead th {\n",
       "        text-align: right;\n",
       "    }\n",
       "</style>\n",
       "<table border=\"1\" class=\"dataframe\">\n",
       "  <thead>\n",
       "    <tr style=\"text-align: right;\">\n",
       "      <th></th>\n",
       "      <th>Logistic regression</th>\n",
       "      <th>Random Forest</th>\n",
       "      <th>XGB</th>\n",
       "    </tr>\n",
       "  </thead>\n",
       "  <tbody>\n",
       "    <tr>\n",
       "      <th>Precision Train</th>\n",
       "      <td>0.690548</td>\n",
       "      <td>1.000000</td>\n",
       "      <td>0.990998</td>\n",
       "    </tr>\n",
       "    <tr>\n",
       "      <th>Precision Test</th>\n",
       "      <td>0.825380</td>\n",
       "      <td>0.801045</td>\n",
       "      <td>0.804144</td>\n",
       "    </tr>\n",
       "    <tr>\n",
       "      <th>Recall Train</th>\n",
       "      <td>0.690297</td>\n",
       "      <td>1.000000</td>\n",
       "      <td>0.990917</td>\n",
       "    </tr>\n",
       "    <tr>\n",
       "      <th>Recall Test</th>\n",
       "      <td>0.694690</td>\n",
       "      <td>0.794985</td>\n",
       "      <td>0.817109</td>\n",
       "    </tr>\n",
       "    <tr>\n",
       "      <th>Accuracy Train</th>\n",
       "      <td>0.690297</td>\n",
       "      <td>1.000000</td>\n",
       "      <td>0.990917</td>\n",
       "    </tr>\n",
       "    <tr>\n",
       "      <th>Accuracy Test</th>\n",
       "      <td>0.694690</td>\n",
       "      <td>0.794985</td>\n",
       "      <td>0.817109</td>\n",
       "    </tr>\n",
       "    <tr>\n",
       "      <th>ROC-AUC Train</th>\n",
       "      <td>0.690297</td>\n",
       "      <td>1.000000</td>\n",
       "      <td>0.990917</td>\n",
       "    </tr>\n",
       "    <tr>\n",
       "      <th>ROC-AUC Test</th>\n",
       "      <td>0.667273</td>\n",
       "      <td>0.596971</td>\n",
       "      <td>0.592704</td>\n",
       "    </tr>\n",
       "    <tr>\n",
       "      <th>F1 macro Train</th>\n",
       "      <td>0.690195</td>\n",
       "      <td>1.000000</td>\n",
       "      <td>0.990917</td>\n",
       "    </tr>\n",
       "    <tr>\n",
       "      <th>F1 macro Test</th>\n",
       "      <td>0.737263</td>\n",
       "      <td>0.797934</td>\n",
       "      <td>0.810131</td>\n",
       "    </tr>\n",
       "  </tbody>\n",
       "</table>\n",
       "</div>"
      ],
      "text/plain": [
       "                 Logistic regression  Random Forest       XGB\n",
       "Precision Train             0.690548       1.000000  0.990998\n",
       "Precision Test              0.825380       0.801045  0.804144\n",
       "Recall Train                0.690297       1.000000  0.990917\n",
       "Recall Test                 0.694690       0.794985  0.817109\n",
       "Accuracy Train              0.690297       1.000000  0.990917\n",
       "Accuracy Test               0.694690       0.794985  0.817109\n",
       "ROC-AUC Train               0.690297       1.000000  0.990917\n",
       "ROC-AUC Test                0.667273       0.596971  0.592704\n",
       "F1 macro Train              0.690195       1.000000  0.990917\n",
       "F1 macro Test               0.737263       0.797934  0.810131"
      ]
     },
     "execution_count": 40,
     "metadata": {},
     "output_type": "execute_result"
    }
   ],
   "source": [
    "score['XGB'] = xgb_score\n",
    "score"
   ]
  },
  {
   "cell_type": "code",
   "execution_count": 41,
   "id": "121be90f-bf91-45bb-81d8-f863c371815d",
   "metadata": {},
   "outputs": [
    {
     "name": "stdout",
     "output_type": "stream",
     "text": [
      "\n",
      "Train ROC AUC: 0.6101019051838724\n",
      "Test ROC AUC: 0.6356264527920222\n"
     ]
    },
    {
     "data": {
      "image/png": "[encoded data removed]",
      "text/plain": [
       "<Figure size 640x480 with 1 Axes>"
      ]
     },
     "metadata": {},
     "output_type": "display_data"
    },
    {
     "name": "stdout",
     "output_type": "stream",
     "text": [
      "\n",
      "Confusion Matrix:\n"
     ]
    },
    {
     "data": {
      "image/png": "[encoded data removed]",
      "text/plain": [
       "<Figure size 1000x400 with 4 Axes>"
      ]
     },
     "metadata": {},
     "output_type": "display_data"
    },
    {
     "name": "stdout",
     "output_type": "stream",
     "text": [
      "\n",
      "Train Classification Report:\n",
      "|              |   precision |   recall |   f1-score |     support |\n",
      "|:-------------|------------:|---------:|-----------:|------------:|\n",
      "| 0.0          |    0.57398  | 0.854231 |   0.68661  | 2257        |\n",
      "| 1.0          |    0.715152 | 0.365973 |   0.484174 | 2257        |\n",
      "| accuracy     |    0.610102 | 0.610102 |   0.610102 |    0.610102 |\n",
      "| macro avg    |    0.644566 | 0.610102 |   0.585392 | 4514        |\n",
      "| weighted avg |    0.644566 | 0.610102 |   0.585392 | 4514        |\n",
      "\n",
      "Test Classification Report:\n",
      "|              |   precision |   recall |   f1-score |   support |\n",
      "|:-------------|------------:|---------:|-----------:|----------:|\n",
      "| 0.0          |    0.89698  | 0.869191 |   0.882867 | 581       |\n",
      "| 1.0          |    0.33913  | 0.402062 |   0.367925 |  97       |\n",
      "| accuracy     |    0.80236  | 0.80236  |   0.80236  |   0.80236 |\n",
      "| macro avg    |    0.618055 | 0.635626 |   0.625396 | 678       |\n",
      "| weighted avg |    0.81717  | 0.80236  |   0.809195 | 678       |\n"
     ]
    }
   ],
   "source": [
    "nb_model = GaussianNB()\n",
    "nb_score = evaluate_model(nb_model, X_smote, X_test, y_smote, y_test)"
   ]
  },
  {
   "cell_type": "code",
   "execution_count": 42,
   "id": "d1fc5e26-38cc-496d-9fe4-a1066320933d",
   "metadata": {},
   "outputs": [
    {
     "data": {
      "text/html": [
       "<div>\n",
       "<style scoped>\n",
       "    .dataframe tbody tr th:only-of-type {\n",
       "        vertical-align: middle;\n",
       "    }\n",
       "\n",
       "    .dataframe tbody tr th {\n",
       "        vertical-align: top;\n",
       "    }\n",
       "\n",
       "    .dataframe thead th {\n",
       "        text-align: right;\n",
       "    }\n",
       "</style>\n",
       "<table border=\"1\" class=\"dataframe\">\n",
       "  <thead>\n",
       "    <tr style=\"text-align: right;\">\n",
       "      <th></th>\n",
       "      <th>Logistic regression</th>\n",
       "      <th>Random Forest</th>\n",
       "      <th>XGB</th>\n",
       "      <th>Naive Bayes</th>\n",
       "    </tr>\n",
       "  </thead>\n",
       "  <tbody>\n",
       "    <tr>\n",
       "      <th>Precision Train</th>\n",
       "      <td>0.690548</td>\n",
       "      <td>1.000000</td>\n",
       "      <td>0.990998</td>\n",
       "      <td>0.644566</td>\n",
       "    </tr>\n",
       "    <tr>\n",
       "      <th>Precision Test</th>\n",
       "      <td>0.825380</td>\n",
       "      <td>0.801045</td>\n",
       "      <td>0.804144</td>\n",
       "      <td>0.817170</td>\n",
       "    </tr>\n",
       "    <tr>\n",
       "      <th>Recall Train</th>\n",
       "      <td>0.690297</td>\n",
       "      <td>1.000000</td>\n",
       "      <td>0.990917</td>\n",
       "      <td>0.610102</td>\n",
       "    </tr>\n",
       "    <tr>\n",
       "      <th>Recall Test</th>\n",
       "      <td>0.694690</td>\n",
       "      <td>0.794985</td>\n",
       "      <td>0.817109</td>\n",
       "      <td>0.802360</td>\n",
       "    </tr>\n",
       "    <tr>\n",
       "      <th>Accuracy Train</th>\n",
       "      <td>0.690297</td>\n",
       "      <td>1.000000</td>\n",
       "      <td>0.990917</td>\n",
       "      <td>0.610102</td>\n",
       "    </tr>\n",
       "    <tr>\n",
       "      <th>Accuracy Test</th>\n",
       "      <td>0.694690</td>\n",
       "      <td>0.794985</td>\n",
       "      <td>0.817109</td>\n",
       "      <td>0.802360</td>\n",
       "    </tr>\n",
       "    <tr>\n",
       "      <th>ROC-AUC Train</th>\n",
       "      <td>0.690297</td>\n",
       "      <td>1.000000</td>\n",
       "      <td>0.990917</td>\n",
       "      <td>0.610102</td>\n",
       "    </tr>\n",
       "    <tr>\n",
       "      <th>ROC-AUC Test</th>\n",
       "      <td>0.667273</td>\n",
       "      <td>0.596971</td>\n",
       "      <td>0.592704</td>\n",
       "      <td>0.635626</td>\n",
       "    </tr>\n",
       "    <tr>\n",
       "      <th>F1 macro Train</th>\n",
       "      <td>0.690195</td>\n",
       "      <td>1.000000</td>\n",
       "      <td>0.990917</td>\n",
       "      <td>0.585392</td>\n",
       "    </tr>\n",
       "    <tr>\n",
       "      <th>F1 macro Test</th>\n",
       "      <td>0.737263</td>\n",
       "      <td>0.797934</td>\n",
       "      <td>0.810131</td>\n",
       "      <td>0.809195</td>\n",
       "    </tr>\n",
       "  </tbody>\n",
       "</table>\n",
       "</div>"
      ],
      "text/plain": [
       "                 Logistic regression  Random Forest       XGB  Naive Bayes\n",
       "Precision Train             0.690548       1.000000  0.990998     0.644566\n",
       "Precision Test              0.825380       0.801045  0.804144     0.817170\n",
       "Recall Train                0.690297       1.000000  0.990917     0.610102\n",
       "Recall Test                 0.694690       0.794985  0.817109     0.802360\n",
       "Accuracy Train              0.690297       1.000000  0.990917     0.610102\n",
       "Accuracy Test               0.694690       0.794985  0.817109     0.802360\n",
       "ROC-AUC Train               0.690297       1.000000  0.990917     0.610102\n",
       "ROC-AUC Test                0.667273       0.596971  0.592704     0.635626\n",
       "F1 macro Train              0.690195       1.000000  0.990917     0.585392\n",
       "F1 macro Test               0.737263       0.797934  0.810131     0.809195"
      ]
     },
     "execution_count": 42,
     "metadata": {},
     "output_type": "execute_result"
    }
   ],
   "source": [
    "score['Naive Bayes'] = nb_score\n",
    "score"
   ]
  },
  {
   "cell_type": "code",
   "execution_count": 43,
   "id": "ff941300-e023-4ee9-a450-abcdc6781428",
   "metadata": {},
   "outputs": [
    {
     "name": "stdout",
     "output_type": "stream",
     "text": [
      "\n",
      "Train ROC AUC: 0.682100132919805\n",
      "Test ROC AUC: 0.6758432847738524\n"
     ]
    },
    {
     "data": {
      "image/png": "[encoded data removed]",
      "text/plain": [
       "<Figure size 640x480 with 1 Axes>"
      ]
     },
     "metadata": {},
     "output_type": "display_data"
    },
    {
     "name": "stdout",
     "output_type": "stream",
     "text": [
      "\n",
      "Confusion Matrix:\n"
     ]
    },
    {
     "data": {
      "image/png": "[encoded data removed]",
      "text/plain": [
       "<Figure size 1000x400 with 4 Axes>"
      ]
     },
     "metadata": {},
     "output_type": "display_data"
    },
    {
     "name": "stdout",
     "output_type": "stream",
     "text": [
      "\n",
      "Train Classification Report:\n",
      "|              |   precision |   recall |   f1-score |   support |\n",
      "|:-------------|------------:|---------:|-----------:|----------:|\n",
      "| 0.0          |    0.696839 | 0.644661 |   0.669735 | 2257      |\n",
      "| 1.0          |    0.669415 | 0.719539 |   0.693572 | 2257      |\n",
      "| accuracy     |    0.6821   | 0.6821   |   0.6821   |    0.6821 |\n",
      "| macro avg    |    0.683127 | 0.6821   |   0.681654 | 4514      |\n",
      "| weighted avg |    0.683127 | 0.6821   |   0.681654 | 4514      |\n",
      "\n",
      "Test Classification Report:\n",
      "|              |   precision |   recall |   f1-score |    support |\n",
      "|:-------------|------------:|---------:|-----------:|-----------:|\n",
      "| 0.0          |    0.925234 | 0.681583 |   0.784936 | 581        |\n",
      "| 1.0          |    0.26     | 0.670103 |   0.37464  |  97        |\n",
      "| accuracy     |    0.679941 | 0.679941 |   0.679941 |   0.679941 |\n",
      "| macro avg    |    0.592617 | 0.675843 |   0.579788 | 678        |\n",
      "| weighted avg |    0.83006  | 0.679941 |   0.726235 | 678        |\n"
     ]
    }
   ],
   "source": [
    "svm_model = SVC(kernel='linear', random_state=0, probability=True)\n",
    "svm_score = evaluate_model(svm_model, X_smote, X_test, y_smote, y_test)"
   ]
  },
  {
   "cell_type": "code",
   "execution_count": 44,
   "id": "0e694dc4-7c48-419c-8ef9-7135c89a748d",
   "metadata": {},
   "outputs": [
    {
     "data": {
      "text/html": [
       "<div>\n",
       "<style scoped>\n",
       "    .dataframe tbody tr th:only-of-type {\n",
       "        vertical-align: middle;\n",
       "    }\n",
       "\n",
       "    .dataframe tbody tr th {\n",
       "        vertical-align: top;\n",
       "    }\n",
       "\n",
       "    .dataframe thead th {\n",
       "        text-align: right;\n",
       "    }\n",
       "</style>\n",
       "<table border=\"1\" class=\"dataframe\">\n",
       "  <thead>\n",
       "    <tr style=\"text-align: right;\">\n",
       "      <th></th>\n",
       "      <th>Logistic regression</th>\n",
       "      <th>Random Forest</th>\n",
       "      <th>XGB</th>\n",
       "      <th>Naive Bayes</th>\n",
       "      <th>SVM</th>\n",
       "    </tr>\n",
       "  </thead>\n",
       "  <tbody>\n",
       "    <tr>\n",
       "      <th>Precision Train</th>\n",
       "      <td>0.690548</td>\n",
       "      <td>1.000000</td>\n",
       "      <td>0.990998</td>\n",
       "      <td>0.644566</td>\n",
       "      <td>0.683127</td>\n",
       "    </tr>\n",
       "    <tr>\n",
       "      <th>Precision Test</th>\n",
       "      <td>0.825380</td>\n",
       "      <td>0.801045</td>\n",
       "      <td>0.804144</td>\n",
       "      <td>0.817170</td>\n",
       "      <td>0.830060</td>\n",
       "    </tr>\n",
       "    <tr>\n",
       "      <th>Recall Train</th>\n",
       "      <td>0.690297</td>\n",
       "      <td>1.000000</td>\n",
       "      <td>0.990917</td>\n",
       "      <td>0.610102</td>\n",
       "      <td>0.682100</td>\n",
       "    </tr>\n",
       "    <tr>\n",
       "      <th>Recall Test</th>\n",
       "      <td>0.694690</td>\n",
       "      <td>0.794985</td>\n",
       "      <td>0.817109</td>\n",
       "      <td>0.802360</td>\n",
       "      <td>0.679941</td>\n",
       "    </tr>\n",
       "    <tr>\n",
       "      <th>Accuracy Train</th>\n",
       "      <td>0.690297</td>\n",
       "      <td>1.000000</td>\n",
       "      <td>0.990917</td>\n",
       "      <td>0.610102</td>\n",
       "      <td>0.682100</td>\n",
       "    </tr>\n",
       "    <tr>\n",
       "      <th>Accuracy Test</th>\n",
       "      <td>0.694690</td>\n",
       "      <td>0.794985</td>\n",
       "      <td>0.817109</td>\n",
       "      <td>0.802360</td>\n",
       "      <td>0.679941</td>\n",
       "    </tr>\n",
       "    <tr>\n",
       "      <th>ROC-AUC Train</th>\n",
       "      <td>0.690297</td>\n",
       "      <td>1.000000</td>\n",
       "      <td>0.990917</td>\n",
       "      <td>0.610102</td>\n",
       "      <td>0.682100</td>\n",
       "    </tr>\n",
       "    <tr>\n",
       "      <th>ROC-AUC Test</th>\n",
       "      <td>0.667273</td>\n",
       "      <td>0.596971</td>\n",
       "      <td>0.592704</td>\n",
       "      <td>0.635626</td>\n",
       "      <td>0.675843</td>\n",
       "    </tr>\n",
       "    <tr>\n",
       "      <th>F1 macro Train</th>\n",
       "      <td>0.690195</td>\n",
       "      <td>1.000000</td>\n",
       "      <td>0.990917</td>\n",
       "      <td>0.585392</td>\n",
       "      <td>0.681654</td>\n",
       "    </tr>\n",
       "    <tr>\n",
       "      <th>F1 macro Test</th>\n",
       "      <td>0.737263</td>\n",
       "      <td>0.797934</td>\n",
       "      <td>0.810131</td>\n",
       "      <td>0.809195</td>\n",
       "      <td>0.726235</td>\n",
       "    </tr>\n",
       "  </tbody>\n",
       "</table>\n",
       "</div>"
      ],
      "text/plain": [
       "                 Logistic regression  Random Forest       XGB  Naive Bayes  \\\n",
       "Precision Train             0.690548       1.000000  0.990998     0.644566   \n",
       "Precision Test              0.825380       0.801045  0.804144     0.817170   \n",
       "Recall Train                0.690297       1.000000  0.990917     0.610102   \n",
       "Recall Test                 0.694690       0.794985  0.817109     0.802360   \n",
       "Accuracy Train              0.690297       1.000000  0.990917     0.610102   \n",
       "Accuracy Test               0.694690       0.794985  0.817109     0.802360   \n",
       "ROC-AUC Train               0.690297       1.000000  0.990917     0.610102   \n",
       "ROC-AUC Test                0.667273       0.596971  0.592704     0.635626   \n",
       "F1 macro Train              0.690195       1.000000  0.990917     0.585392   \n",
       "F1 macro Test               0.737263       0.797934  0.810131     0.809195   \n",
       "\n",
       "                      SVM  \n",
       "Precision Train  0.683127  \n",
       "Precision Test   0.830060  \n",
       "Recall Train     0.682100  \n",
       "Recall Test      0.679941  \n",
       "Accuracy Train   0.682100  \n",
       "Accuracy Test    0.679941  \n",
       "ROC-AUC Train    0.682100  \n",
       "ROC-AUC Test     0.675843  \n",
       "F1 macro Train   0.681654  \n",
       "F1 macro Test    0.726235  "
      ]
     },
     "execution_count": 44,
     "metadata": {},
     "output_type": "execute_result"
    }
   ],
   "source": [
    "score['SVM'] = svm_score\n",
    "score"
   ]
  },
  {
   "cell_type": "code",
   "execution_count": 45,
   "id": "3b131d96-89fe-4205-ba06-3b6d22de9549",
   "metadata": {},
   "outputs": [
    {
     "data": {
      "text/html": [
       "<div>\n",
       "<style scoped>\n",
       "    .dataframe tbody tr th:only-of-type {\n",
       "        vertical-align: middle;\n",
       "    }\n",
       "\n",
       "    .dataframe tbody tr th {\n",
       "        vertical-align: top;\n",
       "    }\n",
       "\n",
       "    .dataframe thead th {\n",
       "        text-align: right;\n",
       "    }\n",
       "</style>\n",
       "<table border=\"1\" class=\"dataframe\">\n",
       "  <thead>\n",
       "    <tr style=\"text-align: right;\">\n",
       "      <th></th>\n",
       "      <th>Precision Train</th>\n",
       "      <th>Precision Test</th>\n",
       "      <th>Recall Train</th>\n",
       "      <th>Recall Test</th>\n",
       "      <th>Accuracy Train</th>\n",
       "      <th>Accuracy Test</th>\n",
       "      <th>ROC-AUC Train</th>\n",
       "      <th>ROC-AUC Test</th>\n",
       "      <th>F1 macro Train</th>\n",
       "      <th>F1 macro Test</th>\n",
       "    </tr>\n",
       "  </thead>\n",
       "  <tbody>\n",
       "    <tr>\n",
       "      <th>Logistic regression</th>\n",
       "      <td>0.690548</td>\n",
       "      <td>0.82538</td>\n",
       "      <td>0.690297</td>\n",
       "      <td>0.694690</td>\n",
       "      <td>0.690297</td>\n",
       "      <td>0.694690</td>\n",
       "      <td>0.690297</td>\n",
       "      <td>0.667273</td>\n",
       "      <td>0.690195</td>\n",
       "      <td>0.737263</td>\n",
       "    </tr>\n",
       "    <tr>\n",
       "      <th>Naive Bayes</th>\n",
       "      <td>0.644566</td>\n",
       "      <td>0.81717</td>\n",
       "      <td>0.610102</td>\n",
       "      <td>0.802360</td>\n",
       "      <td>0.610102</td>\n",
       "      <td>0.802360</td>\n",
       "      <td>0.610102</td>\n",
       "      <td>0.635626</td>\n",
       "      <td>0.585392</td>\n",
       "      <td>0.809195</td>\n",
       "    </tr>\n",
       "    <tr>\n",
       "      <th>SVM</th>\n",
       "      <td>0.683127</td>\n",
       "      <td>0.83006</td>\n",
       "      <td>0.682100</td>\n",
       "      <td>0.679941</td>\n",
       "      <td>0.682100</td>\n",
       "      <td>0.679941</td>\n",
       "      <td>0.682100</td>\n",
       "      <td>0.675843</td>\n",
       "      <td>0.681654</td>\n",
       "      <td>0.726235</td>\n",
       "    </tr>\n",
       "  </tbody>\n",
       "</table>\n",
       "</div>"
      ],
      "text/plain": [
       "                     Precision Train  Precision Test  Recall Train  \\\n",
       "Logistic regression         0.690548         0.82538      0.690297   \n",
       "Naive Bayes                 0.644566         0.81717      0.610102   \n",
       "SVM                         0.683127         0.83006      0.682100   \n",
       "\n",
       "                     Recall Test  Accuracy Train  Accuracy Test  \\\n",
       "Logistic regression     0.694690        0.690297       0.694690   \n",
       "Naive Bayes             0.802360        0.610102       0.802360   \n",
       "SVM                     0.679941        0.682100       0.679941   \n",
       "\n",
       "                     ROC-AUC Train  ROC-AUC Test  F1 macro Train  \\\n",
       "Logistic regression       0.690297      0.667273        0.690195   \n",
       "Naive Bayes               0.610102      0.635626        0.585392   \n",
       "SVM                       0.682100      0.675843        0.681654   \n",
       "\n",
       "                     F1 macro Test  \n",
       "Logistic regression       0.737263  \n",
       "Naive Bayes               0.809195  \n",
       "SVM                       0.726235  "
      ]
     },
     "execution_count": 45,
     "metadata": {},
     "output_type": "execute_result"
    }
   ],
   "source": [
    "score_t=score.transpose()\n",
    "score_t\n",
    "remove_models = score_t[score_t['Recall Train']>=0.95].index\n",
    "adj = score_t.drop(remove_models)                   \n",
    "adj"
   ]
  },
  {
   "cell_type": "code",
   "execution_count": 49,
   "id": "4d3dbead-217b-4c16-acf8-e590a543ae30",
   "metadata": {},
   "outputs": [
    {
     "name": "stdout",
     "output_type": "stream",
     "text": [
      "The best models are:\n",
      "Precision: SVM - 0.8301\n",
      "Recall: Naive Bayes - 0.8024\n",
      "Accuracy: Naive Bayes - 0.8024\n",
      "ROC-AUC: SVM - 0.6758\n",
      "F1 macro: Naive Bayes - 0.8092\n"
     ]
    }
   ],
   "source": [
    "def select_best_model(df, metrics):\n",
    "\n",
    "    best_models = {}\n",
    "    for metric in metrics:\n",
    "        max_test = df[metric + ' Test'].max()\n",
    "        best_model_test = df[df[metric + ' Test'] == max_test].index[0]\n",
    "        best_model = best_model_test\n",
    "        best_models[metric] = best_model\n",
    "    return best_models\n",
    "     \n",
    "\n",
    "metrics = ['Precision','Recall', 'Accuracy', 'ROC-AUC', 'F1 macro']\n",
    "\n",
    "best_models = select_best_model(adj, metrics)\n",
    "print(\"The best models are:\")\n",
    "for metric, best_model in best_models.items():\n",
    "    print(f\"{metric}: {best_model} - {adj[metric+' Test'][best_model].round(4)}\")"
   ]
  },
  {
   "cell_type": "code",
   "execution_count": null,
   "id": "2bd445e4-f61f-4004-8723-95686c753978",
   "metadata": {},
   "outputs": [],
   "source": []
  }
 ],
 "metadata": {
  "kernelspec": {
   "display_name": "Python 3 (ipykernel)",
   "language": "python",
   "name": "python3"
  },
  "language_info": {
   "codemirror_mode": {
    "name": "ipython",
    "version": 3
   },
   "file_extension": ".py",
   "mimetype": "text/x-python",
   "name": "python",
   "nbconvert_exporter": "python",
   "pygments_lexer": "ipython3",
   "version": "3.11.5"
  }
 },
 "nbformat": 4,
 "nbformat_minor": 5
}
